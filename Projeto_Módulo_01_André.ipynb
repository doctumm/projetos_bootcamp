{
  "nbformat": 4,
  "nbformat_minor": 0,
  "metadata": {
    "colab": {
      "name": "Projeto Módulo 01 - André.ipynb",
      "provenance": [],
      "collapsed_sections": [
        "5J6oqJE8xzrb"
      ]
    },
    "kernelspec": {
      "display_name": "Python 3",
      "name": "python3"
    }
  },
  "cells": [
    {
      "cell_type": "markdown",
      "metadata": {
        "id": "RshO3GgDFGhB"
      },
      "source": [
        "## Resumo:\n",
        "\n",
        "No dia a dia assistimos telejornais, acessamos sites, recebemos um monte de informação sobre a pandemia de Covid-19, mas parando para analisar, sabemos realmente qual é a real situações em termos de números nos locais do país?\n",
        "\n",
        "Essa analise visa acompanhar a evolução da pandemia de Covid-19 no Brasil, com foco em cada Unidade da Federação e também nas regiões. Será usada a base de dados disponibilizada pelo brasil.io, iniciativa que foi desenvolvida de maneira independente e que tem como objetivo tornar acessível dados de interesse público para a população em geral. Então fica todos os créditos para eles e para mais informações sobre a iniciativa: https://brasil.io/manifesto/\n",
        "\n",
        "O base de dados escolhida em específico é a **Covid-19 - caso**, filtrada com dados dos estados, desde o primeiro caso registrado até o da data de geração do arquivo, que foi dia 13/11/2020.\n",
        "\n",
        "O que se busca é analisar de maneira objetivas os números absolutos, quebrá-los por estado, por região, por mês, para assim ver quais estados e regiões foram mais ou menos afetados, e com base nisso desenvolver hipóteses que deverão ser validadas, buscando uma análise mais pro lado demográfico."
      ]
    },
    {
      "cell_type": "markdown",
      "metadata": {
        "id": "5J6oqJE8xzrb"
      },
      "source": [
        "## Importando bibliotecas e conhecendo base de dados"
      ]
    },
    {
      "cell_type": "code",
      "metadata": {
        "id": "wWHrc23HMW07"
      },
      "source": [
        "# Importando as bibliotecas\n",
        "\n",
        "import pandas as pd\n",
        "import numpy as np\n",
        "import matplotlib.pyplot as plt\n",
        "import matplotlib.ticker as ticker\n",
        "\n",
        "# Criando fonte de dados com tabela raw hospedada no github\n",
        "path = 'https://raw.githubusercontent.com/doctumm/projetos_bootcamp/main/covid19-a84b1b6c93c14948bb920aaf0c40592b.csv'"
      ],
      "execution_count": 2,
      "outputs": []
    },
    {
      "cell_type": "code",
      "metadata": {
        "colab": {
          "base_uri": "https://localhost:8080/",
          "height": 198
        },
        "id": "-sXjhLTwwlsA",
        "outputId": "f746844c-55f6-4110-ea59-605e324f5844"
      },
      "source": [
        "# Importando dataset de casos Covid-19 Brasil (De Fev/2020 à Nov/2020) e checando as primeiras 5 linhas\n",
        "\n",
        "df_test = pd.read_csv(path, sep = ',')\n",
        "df_test.head()"
      ],
      "execution_count": 3,
      "outputs": [
        {
          "output_type": "execute_result",
          "data": {
            "text/html": [
              "<div>\n",
              "<style scoped>\n",
              "    .dataframe tbody tr th:only-of-type {\n",
              "        vertical-align: middle;\n",
              "    }\n",
              "\n",
              "    .dataframe tbody tr th {\n",
              "        vertical-align: top;\n",
              "    }\n",
              "\n",
              "    .dataframe thead th {\n",
              "        text-align: right;\n",
              "    }\n",
              "</style>\n",
              "<table border=\"1\" class=\"dataframe\">\n",
              "  <thead>\n",
              "    <tr style=\"text-align: right;\">\n",
              "      <th></th>\n",
              "      <th>date</th>\n",
              "      <th>state</th>\n",
              "      <th>city</th>\n",
              "      <th>place_type</th>\n",
              "      <th>confirmed</th>\n",
              "      <th>deaths</th>\n",
              "      <th>is_last</th>\n",
              "      <th>estimated_population</th>\n",
              "      <th>city_ibge_code</th>\n",
              "      <th>confirmed_per_100k_inhabitants</th>\n",
              "      <th>death_rate</th>\n",
              "    </tr>\n",
              "  </thead>\n",
              "  <tbody>\n",
              "    <tr>\n",
              "      <th>0</th>\n",
              "      <td>2020-11-13</td>\n",
              "      <td>AC</td>\n",
              "      <td>NaN</td>\n",
              "      <td>state</td>\n",
              "      <td>32661</td>\n",
              "      <td>707</td>\n",
              "      <td>True</td>\n",
              "      <td>894470</td>\n",
              "      <td>12</td>\n",
              "      <td>3651.43605</td>\n",
              "      <td>0.0216</td>\n",
              "    </tr>\n",
              "    <tr>\n",
              "      <th>1</th>\n",
              "      <td>2020-11-13</td>\n",
              "      <td>AL</td>\n",
              "      <td>NaN</td>\n",
              "      <td>state</td>\n",
              "      <td>92328</td>\n",
              "      <td>2288</td>\n",
              "      <td>True</td>\n",
              "      <td>3351543</td>\n",
              "      <td>27</td>\n",
              "      <td>2754.79085</td>\n",
              "      <td>0.0248</td>\n",
              "    </tr>\n",
              "    <tr>\n",
              "      <th>2</th>\n",
              "      <td>2020-11-13</td>\n",
              "      <td>AM</td>\n",
              "      <td>NaN</td>\n",
              "      <td>state</td>\n",
              "      <td>168596</td>\n",
              "      <td>4683</td>\n",
              "      <td>True</td>\n",
              "      <td>4207714</td>\n",
              "      <td>13</td>\n",
              "      <td>4006.83126</td>\n",
              "      <td>0.0278</td>\n",
              "    </tr>\n",
              "    <tr>\n",
              "      <th>3</th>\n",
              "      <td>2020-11-13</td>\n",
              "      <td>AP</td>\n",
              "      <td>NaN</td>\n",
              "      <td>state</td>\n",
              "      <td>54417</td>\n",
              "      <td>774</td>\n",
              "      <td>True</td>\n",
              "      <td>861773</td>\n",
              "      <td>16</td>\n",
              "      <td>6314.53991</td>\n",
              "      <td>0.0142</td>\n",
              "    </tr>\n",
              "    <tr>\n",
              "      <th>4</th>\n",
              "      <td>2020-11-13</td>\n",
              "      <td>BA</td>\n",
              "      <td>NaN</td>\n",
              "      <td>state</td>\n",
              "      <td>371378</td>\n",
              "      <td>7902</td>\n",
              "      <td>True</td>\n",
              "      <td>14930634</td>\n",
              "      <td>29</td>\n",
              "      <td>2487.35586</td>\n",
              "      <td>0.0213</td>\n",
              "    </tr>\n",
              "  </tbody>\n",
              "</table>\n",
              "</div>"
            ],
            "text/plain": [
              "         date state  ...  confirmed_per_100k_inhabitants death_rate\n",
              "0  2020-11-13    AC  ...                      3651.43605     0.0216\n",
              "1  2020-11-13    AL  ...                      2754.79085     0.0248\n",
              "2  2020-11-13    AM  ...                      4006.83126     0.0278\n",
              "3  2020-11-13    AP  ...                      6314.53991     0.0142\n",
              "4  2020-11-13    BA  ...                      2487.35586     0.0213\n",
              "\n",
              "[5 rows x 11 columns]"
            ]
          },
          "metadata": {
            "tags": []
          },
          "execution_count": 3
        }
      ]
    },
    {
      "cell_type": "code",
      "metadata": {
        "colab": {
          "base_uri": "https://localhost:8080/",
          "height": 198
        },
        "id": "XYM5UdqdyxqC",
        "outputId": "a97ab67e-a8a4-4a27-cb25-8323a1ca0e56"
      },
      "source": [
        "# Checando as últimas 5 linhas\n",
        "df_test.tail()"
      ],
      "execution_count": 4,
      "outputs": [
        {
          "output_type": "execute_result",
          "data": {
            "text/html": [
              "<div>\n",
              "<style scoped>\n",
              "    .dataframe tbody tr th:only-of-type {\n",
              "        vertical-align: middle;\n",
              "    }\n",
              "\n",
              "    .dataframe tbody tr th {\n",
              "        vertical-align: top;\n",
              "    }\n",
              "\n",
              "    .dataframe thead th {\n",
              "        text-align: right;\n",
              "    }\n",
              "</style>\n",
              "<table border=\"1\" class=\"dataframe\">\n",
              "  <thead>\n",
              "    <tr style=\"text-align: right;\">\n",
              "      <th></th>\n",
              "      <th>date</th>\n",
              "      <th>state</th>\n",
              "      <th>city</th>\n",
              "      <th>place_type</th>\n",
              "      <th>confirmed</th>\n",
              "      <th>deaths</th>\n",
              "      <th>is_last</th>\n",
              "      <th>estimated_population</th>\n",
              "      <th>city_ibge_code</th>\n",
              "      <th>confirmed_per_100k_inhabitants</th>\n",
              "      <th>death_rate</th>\n",
              "    </tr>\n",
              "  </thead>\n",
              "  <tbody>\n",
              "    <tr>\n",
              "      <th>6536</th>\n",
              "      <td>2020-02-29</td>\n",
              "      <td>SP</td>\n",
              "      <td>NaN</td>\n",
              "      <td>state</td>\n",
              "      <td>2</td>\n",
              "      <td>0</td>\n",
              "      <td>False</td>\n",
              "      <td>46289333</td>\n",
              "      <td>35</td>\n",
              "      <td>0.00432</td>\n",
              "      <td>0.0</td>\n",
              "    </tr>\n",
              "    <tr>\n",
              "      <th>6537</th>\n",
              "      <td>2020-02-28</td>\n",
              "      <td>SP</td>\n",
              "      <td>NaN</td>\n",
              "      <td>state</td>\n",
              "      <td>2</td>\n",
              "      <td>0</td>\n",
              "      <td>False</td>\n",
              "      <td>46289333</td>\n",
              "      <td>35</td>\n",
              "      <td>0.00432</td>\n",
              "      <td>0.0</td>\n",
              "    </tr>\n",
              "    <tr>\n",
              "      <th>6538</th>\n",
              "      <td>2020-02-27</td>\n",
              "      <td>SP</td>\n",
              "      <td>NaN</td>\n",
              "      <td>state</td>\n",
              "      <td>1</td>\n",
              "      <td>0</td>\n",
              "      <td>False</td>\n",
              "      <td>46289333</td>\n",
              "      <td>35</td>\n",
              "      <td>0.00216</td>\n",
              "      <td>0.0</td>\n",
              "    </tr>\n",
              "    <tr>\n",
              "      <th>6539</th>\n",
              "      <td>2020-02-26</td>\n",
              "      <td>SP</td>\n",
              "      <td>NaN</td>\n",
              "      <td>state</td>\n",
              "      <td>1</td>\n",
              "      <td>0</td>\n",
              "      <td>False</td>\n",
              "      <td>46289333</td>\n",
              "      <td>35</td>\n",
              "      <td>0.00216</td>\n",
              "      <td>0.0</td>\n",
              "    </tr>\n",
              "    <tr>\n",
              "      <th>6540</th>\n",
              "      <td>2020-02-25</td>\n",
              "      <td>SP</td>\n",
              "      <td>NaN</td>\n",
              "      <td>state</td>\n",
              "      <td>1</td>\n",
              "      <td>0</td>\n",
              "      <td>False</td>\n",
              "      <td>46289333</td>\n",
              "      <td>35</td>\n",
              "      <td>0.00216</td>\n",
              "      <td>0.0</td>\n",
              "    </tr>\n",
              "  </tbody>\n",
              "</table>\n",
              "</div>"
            ],
            "text/plain": [
              "            date state  ...  confirmed_per_100k_inhabitants death_rate\n",
              "6536  2020-02-29    SP  ...                         0.00432        0.0\n",
              "6537  2020-02-28    SP  ...                         0.00432        0.0\n",
              "6538  2020-02-27    SP  ...                         0.00216        0.0\n",
              "6539  2020-02-26    SP  ...                         0.00216        0.0\n",
              "6540  2020-02-25    SP  ...                         0.00216        0.0\n",
              "\n",
              "[5 rows x 11 columns]"
            ]
          },
          "metadata": {
            "tags": []
          },
          "execution_count": 4
        }
      ]
    },
    {
      "cell_type": "markdown",
      "metadata": {
        "id": "yEZVWfjJzBdx"
      },
      "source": [
        "Fazendo uma breve análise, temos dados diários da evolução de casos e óbitos em cada estado do país. Esses números vão sendo somados aos do dia anterior e sempre apontarão o número total de casos e mortes naquela determinada data."
      ]
    },
    {
      "cell_type": "code",
      "metadata": {
        "colab": {
          "base_uri": "https://localhost:8080/"
        },
        "id": "_zM6xw9pxKi3",
        "outputId": "ee92e449-8910-4e60-b6a8-8809af2bead1"
      },
      "source": [
        "# Conhecendo os tipos de dados do dataset\n",
        "df_test.info()"
      ],
      "execution_count": 5,
      "outputs": [
        {
          "output_type": "stream",
          "text": [
            "<class 'pandas.core.frame.DataFrame'>\n",
            "RangeIndex: 6541 entries, 0 to 6540\n",
            "Data columns (total 11 columns):\n",
            " #   Column                          Non-Null Count  Dtype  \n",
            "---  ------                          --------------  -----  \n",
            " 0   date                            6541 non-null   object \n",
            " 1   state                           6541 non-null   object \n",
            " 2   city                            0 non-null      float64\n",
            " 3   place_type                      6541 non-null   object \n",
            " 4   confirmed                       6541 non-null   int64  \n",
            " 5   deaths                          6541 non-null   int64  \n",
            " 6   is_last                         6541 non-null   bool   \n",
            " 7   estimated_population            6541 non-null   int64  \n",
            " 8   city_ibge_code                  6541 non-null   int64  \n",
            " 9   confirmed_per_100k_inhabitants  6535 non-null   float64\n",
            " 10  death_rate                      6541 non-null   float64\n",
            "dtypes: bool(1), float64(3), int64(4), object(3)\n",
            "memory usage: 517.5+ KB\n"
          ],
          "name": "stdout"
        }
      ]
    },
    {
      "cell_type": "markdown",
      "metadata": {
        "id": "X1ycgauuzIU5"
      },
      "source": [
        "## Tratando os dados"
      ]
    },
    {
      "cell_type": "code",
      "metadata": {
        "colab": {
          "base_uri": "https://localhost:8080/",
          "height": 198
        },
        "id": "5-zUkwEpx6UJ",
        "outputId": "fdca50b7-fa4a-4ae5-a388-2cdbf0196e0c"
      },
      "source": [
        "# Inicialmente vou excluir as colunas que considero não relevantes para análise e vamos recriar o DataFrame\n",
        "\n",
        "df_main = df_test.drop(['city', 'place_type'], axis=1)\n",
        "df_main.head()"
      ],
      "execution_count": 6,
      "outputs": [
        {
          "output_type": "execute_result",
          "data": {
            "text/html": [
              "<div>\n",
              "<style scoped>\n",
              "    .dataframe tbody tr th:only-of-type {\n",
              "        vertical-align: middle;\n",
              "    }\n",
              "\n",
              "    .dataframe tbody tr th {\n",
              "        vertical-align: top;\n",
              "    }\n",
              "\n",
              "    .dataframe thead th {\n",
              "        text-align: right;\n",
              "    }\n",
              "</style>\n",
              "<table border=\"1\" class=\"dataframe\">\n",
              "  <thead>\n",
              "    <tr style=\"text-align: right;\">\n",
              "      <th></th>\n",
              "      <th>date</th>\n",
              "      <th>state</th>\n",
              "      <th>confirmed</th>\n",
              "      <th>deaths</th>\n",
              "      <th>is_last</th>\n",
              "      <th>estimated_population</th>\n",
              "      <th>city_ibge_code</th>\n",
              "      <th>confirmed_per_100k_inhabitants</th>\n",
              "      <th>death_rate</th>\n",
              "    </tr>\n",
              "  </thead>\n",
              "  <tbody>\n",
              "    <tr>\n",
              "      <th>0</th>\n",
              "      <td>2020-11-13</td>\n",
              "      <td>AC</td>\n",
              "      <td>32661</td>\n",
              "      <td>707</td>\n",
              "      <td>True</td>\n",
              "      <td>894470</td>\n",
              "      <td>12</td>\n",
              "      <td>3651.43605</td>\n",
              "      <td>0.0216</td>\n",
              "    </tr>\n",
              "    <tr>\n",
              "      <th>1</th>\n",
              "      <td>2020-11-13</td>\n",
              "      <td>AL</td>\n",
              "      <td>92328</td>\n",
              "      <td>2288</td>\n",
              "      <td>True</td>\n",
              "      <td>3351543</td>\n",
              "      <td>27</td>\n",
              "      <td>2754.79085</td>\n",
              "      <td>0.0248</td>\n",
              "    </tr>\n",
              "    <tr>\n",
              "      <th>2</th>\n",
              "      <td>2020-11-13</td>\n",
              "      <td>AM</td>\n",
              "      <td>168596</td>\n",
              "      <td>4683</td>\n",
              "      <td>True</td>\n",
              "      <td>4207714</td>\n",
              "      <td>13</td>\n",
              "      <td>4006.83126</td>\n",
              "      <td>0.0278</td>\n",
              "    </tr>\n",
              "    <tr>\n",
              "      <th>3</th>\n",
              "      <td>2020-11-13</td>\n",
              "      <td>AP</td>\n",
              "      <td>54417</td>\n",
              "      <td>774</td>\n",
              "      <td>True</td>\n",
              "      <td>861773</td>\n",
              "      <td>16</td>\n",
              "      <td>6314.53991</td>\n",
              "      <td>0.0142</td>\n",
              "    </tr>\n",
              "    <tr>\n",
              "      <th>4</th>\n",
              "      <td>2020-11-13</td>\n",
              "      <td>BA</td>\n",
              "      <td>371378</td>\n",
              "      <td>7902</td>\n",
              "      <td>True</td>\n",
              "      <td>14930634</td>\n",
              "      <td>29</td>\n",
              "      <td>2487.35586</td>\n",
              "      <td>0.0213</td>\n",
              "    </tr>\n",
              "  </tbody>\n",
              "</table>\n",
              "</div>"
            ],
            "text/plain": [
              "         date state  ...  confirmed_per_100k_inhabitants  death_rate\n",
              "0  2020-11-13    AC  ...                      3651.43605      0.0216\n",
              "1  2020-11-13    AL  ...                      2754.79085      0.0248\n",
              "2  2020-11-13    AM  ...                      4006.83126      0.0278\n",
              "3  2020-11-13    AP  ...                      6314.53991      0.0142\n",
              "4  2020-11-13    BA  ...                      2487.35586      0.0213\n",
              "\n",
              "[5 rows x 9 columns]"
            ]
          },
          "metadata": {
            "tags": []
          },
          "execution_count": 6
        }
      ]
    },
    {
      "cell_type": "code",
      "metadata": {
        "colab": {
          "base_uri": "https://localhost:8080/"
        },
        "id": "aWZHu1pszr9x",
        "outputId": "2cebf0fb-6308-4591-d054-9076fe91c320"
      },
      "source": [
        "# Convertendo a coluna date para um formato de data, para facilitar operações, caso seja necessário.\n",
        "\n",
        "df_main['date'] = pd.to_datetime(df_main['date'])\n",
        "df_main.info()"
      ],
      "execution_count": 7,
      "outputs": [
        {
          "output_type": "stream",
          "text": [
            "<class 'pandas.core.frame.DataFrame'>\n",
            "RangeIndex: 6541 entries, 0 to 6540\n",
            "Data columns (total 9 columns):\n",
            " #   Column                          Non-Null Count  Dtype         \n",
            "---  ------                          --------------  -----         \n",
            " 0   date                            6541 non-null   datetime64[ns]\n",
            " 1   state                           6541 non-null   object        \n",
            " 2   confirmed                       6541 non-null   int64         \n",
            " 3   deaths                          6541 non-null   int64         \n",
            " 4   is_last                         6541 non-null   bool          \n",
            " 5   estimated_population            6541 non-null   int64         \n",
            " 6   city_ibge_code                  6541 non-null   int64         \n",
            " 7   confirmed_per_100k_inhabitants  6535 non-null   float64       \n",
            " 8   death_rate                      6541 non-null   float64       \n",
            "dtypes: bool(1), datetime64[ns](1), float64(2), int64(4), object(1)\n",
            "memory usage: 415.3+ KB\n"
          ],
          "name": "stdout"
        }
      ]
    },
    {
      "cell_type": "markdown",
      "metadata": {
        "id": "EqO9Pn-U4Ti0"
      },
      "source": [
        "Para cumprir com um dos objetivos que é a análise por região, vamos criar uma coluna com essa informação, e para isso vamos usar como parâmtro a coluna de city_ibge_code (A sugestão, assim como o código, foi dada pelo Igor Nascimento, na comunidade do Discord)."
      ]
    },
    {
      "cell_type": "code",
      "metadata": {
        "colab": {
          "base_uri": "https://localhost:8080/",
          "height": 858
        },
        "id": "hehKxJob4R9I",
        "outputId": "f90cb9c9-6fab-460c-c25e-ac22c9e5171e"
      },
      "source": [
        "# Checando qual o código de cada estado.\n",
        "df_main[['state', 'city_ibge_code']].drop_duplicates()\n",
        "\n",
        "# O primeiro número sempre será referente a uma região, podemos ver que todos o estados da região norte tem o número 1 na frente, todos do nordeste tem o número 2"
      ],
      "execution_count": 8,
      "outputs": [
        {
          "output_type": "execute_result",
          "data": {
            "text/html": [
              "<div>\n",
              "<style scoped>\n",
              "    .dataframe tbody tr th:only-of-type {\n",
              "        vertical-align: middle;\n",
              "    }\n",
              "\n",
              "    .dataframe tbody tr th {\n",
              "        vertical-align: top;\n",
              "    }\n",
              "\n",
              "    .dataframe thead th {\n",
              "        text-align: right;\n",
              "    }\n",
              "</style>\n",
              "<table border=\"1\" class=\"dataframe\">\n",
              "  <thead>\n",
              "    <tr style=\"text-align: right;\">\n",
              "      <th></th>\n",
              "      <th>state</th>\n",
              "      <th>city_ibge_code</th>\n",
              "    </tr>\n",
              "  </thead>\n",
              "  <tbody>\n",
              "    <tr>\n",
              "      <th>0</th>\n",
              "      <td>AC</td>\n",
              "      <td>12</td>\n",
              "    </tr>\n",
              "    <tr>\n",
              "      <th>1</th>\n",
              "      <td>AL</td>\n",
              "      <td>27</td>\n",
              "    </tr>\n",
              "    <tr>\n",
              "      <th>2</th>\n",
              "      <td>AM</td>\n",
              "      <td>13</td>\n",
              "    </tr>\n",
              "    <tr>\n",
              "      <th>3</th>\n",
              "      <td>AP</td>\n",
              "      <td>16</td>\n",
              "    </tr>\n",
              "    <tr>\n",
              "      <th>4</th>\n",
              "      <td>BA</td>\n",
              "      <td>29</td>\n",
              "    </tr>\n",
              "    <tr>\n",
              "      <th>5</th>\n",
              "      <td>CE</td>\n",
              "      <td>23</td>\n",
              "    </tr>\n",
              "    <tr>\n",
              "      <th>6</th>\n",
              "      <td>DF</td>\n",
              "      <td>53</td>\n",
              "    </tr>\n",
              "    <tr>\n",
              "      <th>7</th>\n",
              "      <td>ES</td>\n",
              "      <td>32</td>\n",
              "    </tr>\n",
              "    <tr>\n",
              "      <th>8</th>\n",
              "      <td>GO</td>\n",
              "      <td>52</td>\n",
              "    </tr>\n",
              "    <tr>\n",
              "      <th>9</th>\n",
              "      <td>MA</td>\n",
              "      <td>21</td>\n",
              "    </tr>\n",
              "    <tr>\n",
              "      <th>10</th>\n",
              "      <td>MG</td>\n",
              "      <td>31</td>\n",
              "    </tr>\n",
              "    <tr>\n",
              "      <th>11</th>\n",
              "      <td>MT</td>\n",
              "      <td>51</td>\n",
              "    </tr>\n",
              "    <tr>\n",
              "      <th>12</th>\n",
              "      <td>PA</td>\n",
              "      <td>15</td>\n",
              "    </tr>\n",
              "    <tr>\n",
              "      <th>13</th>\n",
              "      <td>PB</td>\n",
              "      <td>25</td>\n",
              "    </tr>\n",
              "    <tr>\n",
              "      <th>14</th>\n",
              "      <td>PE</td>\n",
              "      <td>26</td>\n",
              "    </tr>\n",
              "    <tr>\n",
              "      <th>15</th>\n",
              "      <td>PI</td>\n",
              "      <td>22</td>\n",
              "    </tr>\n",
              "    <tr>\n",
              "      <th>16</th>\n",
              "      <td>RJ</td>\n",
              "      <td>33</td>\n",
              "    </tr>\n",
              "    <tr>\n",
              "      <th>17</th>\n",
              "      <td>RO</td>\n",
              "      <td>11</td>\n",
              "    </tr>\n",
              "    <tr>\n",
              "      <th>18</th>\n",
              "      <td>RS</td>\n",
              "      <td>43</td>\n",
              "    </tr>\n",
              "    <tr>\n",
              "      <th>19</th>\n",
              "      <td>SC</td>\n",
              "      <td>42</td>\n",
              "    </tr>\n",
              "    <tr>\n",
              "      <th>20</th>\n",
              "      <td>SE</td>\n",
              "      <td>28</td>\n",
              "    </tr>\n",
              "    <tr>\n",
              "      <th>21</th>\n",
              "      <td>SP</td>\n",
              "      <td>35</td>\n",
              "    </tr>\n",
              "    <tr>\n",
              "      <th>33</th>\n",
              "      <td>MS</td>\n",
              "      <td>50</td>\n",
              "    </tr>\n",
              "    <tr>\n",
              "      <th>39</th>\n",
              "      <td>PR</td>\n",
              "      <td>41</td>\n",
              "    </tr>\n",
              "    <tr>\n",
              "      <th>41</th>\n",
              "      <td>RN</td>\n",
              "      <td>24</td>\n",
              "    </tr>\n",
              "    <tr>\n",
              "      <th>43</th>\n",
              "      <td>RR</td>\n",
              "      <td>14</td>\n",
              "    </tr>\n",
              "    <tr>\n",
              "      <th>48</th>\n",
              "      <td>TO</td>\n",
              "      <td>17</td>\n",
              "    </tr>\n",
              "  </tbody>\n",
              "</table>\n",
              "</div>"
            ],
            "text/plain": [
              "   state  city_ibge_code\n",
              "0     AC              12\n",
              "1     AL              27\n",
              "2     AM              13\n",
              "3     AP              16\n",
              "4     BA              29\n",
              "5     CE              23\n",
              "6     DF              53\n",
              "7     ES              32\n",
              "8     GO              52\n",
              "9     MA              21\n",
              "10    MG              31\n",
              "11    MT              51\n",
              "12    PA              15\n",
              "13    PB              25\n",
              "14    PE              26\n",
              "15    PI              22\n",
              "16    RJ              33\n",
              "17    RO              11\n",
              "18    RS              43\n",
              "19    SC              42\n",
              "20    SE              28\n",
              "21    SP              35\n",
              "33    MS              50\n",
              "39    PR              41\n",
              "41    RN              24\n",
              "43    RR              14\n",
              "48    TO              17"
            ]
          },
          "metadata": {
            "tags": []
          },
          "execution_count": 8
        }
      ]
    },
    {
      "cell_type": "code",
      "metadata": {
        "colab": {
          "base_uri": "https://localhost:8080/",
          "height": 348
        },
        "id": "E_d3Gm7B4s3W",
        "outputId": "7d8fd662-8436-483f-9e0b-197773af5b7c"
      },
      "source": [
        "# Será criado um dicionário para atribuir a cada número uma região.\n",
        "regioes_dict = {'1': 'Norte', '2': 'Nordeste', '3': 'Sudeste', '4': 'Sul', '5': 'Centro-oeste'}\n",
        "\n",
        "# A coluna região será dada pela função map, para acessar cada linha, e funçãolambda para acessar o primeiro número e retornar a região.\n",
        "df_main['região'] = df_main['city_ibge_code'].map(lambda i: regioes_dict[str(i)[0]])\n",
        "df_main.head(10)"
      ],
      "execution_count": 9,
      "outputs": [
        {
          "output_type": "execute_result",
          "data": {
            "text/html": [
              "<div>\n",
              "<style scoped>\n",
              "    .dataframe tbody tr th:only-of-type {\n",
              "        vertical-align: middle;\n",
              "    }\n",
              "\n",
              "    .dataframe tbody tr th {\n",
              "        vertical-align: top;\n",
              "    }\n",
              "\n",
              "    .dataframe thead th {\n",
              "        text-align: right;\n",
              "    }\n",
              "</style>\n",
              "<table border=\"1\" class=\"dataframe\">\n",
              "  <thead>\n",
              "    <tr style=\"text-align: right;\">\n",
              "      <th></th>\n",
              "      <th>date</th>\n",
              "      <th>state</th>\n",
              "      <th>confirmed</th>\n",
              "      <th>deaths</th>\n",
              "      <th>is_last</th>\n",
              "      <th>estimated_population</th>\n",
              "      <th>city_ibge_code</th>\n",
              "      <th>confirmed_per_100k_inhabitants</th>\n",
              "      <th>death_rate</th>\n",
              "      <th>região</th>\n",
              "    </tr>\n",
              "  </thead>\n",
              "  <tbody>\n",
              "    <tr>\n",
              "      <th>0</th>\n",
              "      <td>2020-11-13</td>\n",
              "      <td>AC</td>\n",
              "      <td>32661</td>\n",
              "      <td>707</td>\n",
              "      <td>True</td>\n",
              "      <td>894470</td>\n",
              "      <td>12</td>\n",
              "      <td>3651.43605</td>\n",
              "      <td>0.0216</td>\n",
              "      <td>Norte</td>\n",
              "    </tr>\n",
              "    <tr>\n",
              "      <th>1</th>\n",
              "      <td>2020-11-13</td>\n",
              "      <td>AL</td>\n",
              "      <td>92328</td>\n",
              "      <td>2288</td>\n",
              "      <td>True</td>\n",
              "      <td>3351543</td>\n",
              "      <td>27</td>\n",
              "      <td>2754.79085</td>\n",
              "      <td>0.0248</td>\n",
              "      <td>Nordeste</td>\n",
              "    </tr>\n",
              "    <tr>\n",
              "      <th>2</th>\n",
              "      <td>2020-11-13</td>\n",
              "      <td>AM</td>\n",
              "      <td>168596</td>\n",
              "      <td>4683</td>\n",
              "      <td>True</td>\n",
              "      <td>4207714</td>\n",
              "      <td>13</td>\n",
              "      <td>4006.83126</td>\n",
              "      <td>0.0278</td>\n",
              "      <td>Norte</td>\n",
              "    </tr>\n",
              "    <tr>\n",
              "      <th>3</th>\n",
              "      <td>2020-11-13</td>\n",
              "      <td>AP</td>\n",
              "      <td>54417</td>\n",
              "      <td>774</td>\n",
              "      <td>True</td>\n",
              "      <td>861773</td>\n",
              "      <td>16</td>\n",
              "      <td>6314.53991</td>\n",
              "      <td>0.0142</td>\n",
              "      <td>Norte</td>\n",
              "    </tr>\n",
              "    <tr>\n",
              "      <th>4</th>\n",
              "      <td>2020-11-13</td>\n",
              "      <td>BA</td>\n",
              "      <td>371378</td>\n",
              "      <td>7902</td>\n",
              "      <td>True</td>\n",
              "      <td>14930634</td>\n",
              "      <td>29</td>\n",
              "      <td>2487.35586</td>\n",
              "      <td>0.0213</td>\n",
              "      <td>Nordeste</td>\n",
              "    </tr>\n",
              "    <tr>\n",
              "      <th>5</th>\n",
              "      <td>2020-11-13</td>\n",
              "      <td>CE</td>\n",
              "      <td>283463</td>\n",
              "      <td>9435</td>\n",
              "      <td>True</td>\n",
              "      <td>9187103</td>\n",
              "      <td>23</td>\n",
              "      <td>3085.44489</td>\n",
              "      <td>0.0333</td>\n",
              "      <td>Nordeste</td>\n",
              "    </tr>\n",
              "    <tr>\n",
              "      <th>6</th>\n",
              "      <td>2020-11-13</td>\n",
              "      <td>DF</td>\n",
              "      <td>219012</td>\n",
              "      <td>3808</td>\n",
              "      <td>True</td>\n",
              "      <td>3055149</td>\n",
              "      <td>53</td>\n",
              "      <td>7168.61927</td>\n",
              "      <td>0.0174</td>\n",
              "      <td>Centro-oeste</td>\n",
              "    </tr>\n",
              "    <tr>\n",
              "      <th>7</th>\n",
              "      <td>2020-11-13</td>\n",
              "      <td>ES</td>\n",
              "      <td>168358</td>\n",
              "      <td>3993</td>\n",
              "      <td>True</td>\n",
              "      <td>4064052</td>\n",
              "      <td>32</td>\n",
              "      <td>4142.61432</td>\n",
              "      <td>0.0237</td>\n",
              "      <td>Sudeste</td>\n",
              "    </tr>\n",
              "    <tr>\n",
              "      <th>8</th>\n",
              "      <td>2020-11-13</td>\n",
              "      <td>GO</td>\n",
              "      <td>267319</td>\n",
              "      <td>6029</td>\n",
              "      <td>True</td>\n",
              "      <td>7113540</td>\n",
              "      <td>52</td>\n",
              "      <td>3757.88988</td>\n",
              "      <td>0.0226</td>\n",
              "      <td>Centro-oeste</td>\n",
              "    </tr>\n",
              "    <tr>\n",
              "      <th>9</th>\n",
              "      <td>2020-11-13</td>\n",
              "      <td>MA</td>\n",
              "      <td>189321</td>\n",
              "      <td>4162</td>\n",
              "      <td>True</td>\n",
              "      <td>7114598</td>\n",
              "      <td>21</td>\n",
              "      <td>2661.02175</td>\n",
              "      <td>0.0220</td>\n",
              "      <td>Nordeste</td>\n",
              "    </tr>\n",
              "  </tbody>\n",
              "</table>\n",
              "</div>"
            ],
            "text/plain": [
              "        date state  ...  death_rate        região\n",
              "0 2020-11-13    AC  ...      0.0216         Norte\n",
              "1 2020-11-13    AL  ...      0.0248      Nordeste\n",
              "2 2020-11-13    AM  ...      0.0278         Norte\n",
              "3 2020-11-13    AP  ...      0.0142         Norte\n",
              "4 2020-11-13    BA  ...      0.0213      Nordeste\n",
              "5 2020-11-13    CE  ...      0.0333      Nordeste\n",
              "6 2020-11-13    DF  ...      0.0174  Centro-oeste\n",
              "7 2020-11-13    ES  ...      0.0237       Sudeste\n",
              "8 2020-11-13    GO  ...      0.0226  Centro-oeste\n",
              "9 2020-11-13    MA  ...      0.0220      Nordeste\n",
              "\n",
              "[10 rows x 10 columns]"
            ]
          },
          "metadata": {
            "tags": []
          },
          "execution_count": 9
        }
      ]
    },
    {
      "cell_type": "code",
      "metadata": {
        "colab": {
          "base_uri": "https://localhost:8080/",
          "height": 235
        },
        "id": "xAaQVYUu5JTo",
        "outputId": "e6c78c02-99f5-4e6d-8090-6dd385c9a0a2"
      },
      "source": [
        "# Por último, fica estabelecido que serão usados dados de meses completos, portanto vamos eliminar as linhas dos meses de fevereiro e novembro que não estão consolidados.\n",
        "\n",
        "# Criando seleções para identificar linhas do mês de fevereiro e novembro.\n",
        "selecao_fev = df_main['date'] <= '2020-02-29'\n",
        "selecao_out = df_main['date'] >= '2020-11-01'\n",
        "\n",
        "# Redefinindo DataFrame, removendo essas linhas por meio da seleção\n",
        "df_main = df_main[~selecao_fev]\n",
        "df_main = df_main[~selecao_out]\n",
        "\n",
        "# Redefinindo índice\n",
        "df_main.index = range(df_main.shape[0])\n",
        "\n",
        "df_main.head()"
      ],
      "execution_count": 10,
      "outputs": [
        {
          "output_type": "stream",
          "text": [
            "/usr/local/lib/python3.6/dist-packages/ipykernel_launcher.py:9: UserWarning: Boolean Series key will be reindexed to match DataFrame index.\n",
            "  if __name__ == '__main__':\n"
          ],
          "name": "stderr"
        },
        {
          "output_type": "execute_result",
          "data": {
            "text/html": [
              "<div>\n",
              "<style scoped>\n",
              "    .dataframe tbody tr th:only-of-type {\n",
              "        vertical-align: middle;\n",
              "    }\n",
              "\n",
              "    .dataframe tbody tr th {\n",
              "        vertical-align: top;\n",
              "    }\n",
              "\n",
              "    .dataframe thead th {\n",
              "        text-align: right;\n",
              "    }\n",
              "</style>\n",
              "<table border=\"1\" class=\"dataframe\">\n",
              "  <thead>\n",
              "    <tr style=\"text-align: right;\">\n",
              "      <th></th>\n",
              "      <th>date</th>\n",
              "      <th>state</th>\n",
              "      <th>confirmed</th>\n",
              "      <th>deaths</th>\n",
              "      <th>is_last</th>\n",
              "      <th>estimated_population</th>\n",
              "      <th>city_ibge_code</th>\n",
              "      <th>confirmed_per_100k_inhabitants</th>\n",
              "      <th>death_rate</th>\n",
              "      <th>região</th>\n",
              "    </tr>\n",
              "  </thead>\n",
              "  <tbody>\n",
              "    <tr>\n",
              "      <th>0</th>\n",
              "      <td>2020-10-31</td>\n",
              "      <td>AC</td>\n",
              "      <td>30796</td>\n",
              "      <td>693</td>\n",
              "      <td>False</td>\n",
              "      <td>894470</td>\n",
              "      <td>12</td>\n",
              "      <td>3442.93269</td>\n",
              "      <td>0.0225</td>\n",
              "      <td>Norte</td>\n",
              "    </tr>\n",
              "    <tr>\n",
              "      <th>1</th>\n",
              "      <td>2020-10-31</td>\n",
              "      <td>AL</td>\n",
              "      <td>90789</td>\n",
              "      <td>2238</td>\n",
              "      <td>False</td>\n",
              "      <td>3351543</td>\n",
              "      <td>27</td>\n",
              "      <td>2708.87170</td>\n",
              "      <td>0.0247</td>\n",
              "      <td>Nordeste</td>\n",
              "    </tr>\n",
              "    <tr>\n",
              "      <th>2</th>\n",
              "      <td>2020-10-31</td>\n",
              "      <td>AM</td>\n",
              "      <td>161683</td>\n",
              "      <td>4543</td>\n",
              "      <td>False</td>\n",
              "      <td>4207714</td>\n",
              "      <td>13</td>\n",
              "      <td>3842.53778</td>\n",
              "      <td>0.0281</td>\n",
              "      <td>Norte</td>\n",
              "    </tr>\n",
              "    <tr>\n",
              "      <th>3</th>\n",
              "      <td>2020-10-31</td>\n",
              "      <td>AP</td>\n",
              "      <td>52175</td>\n",
              "      <td>748</td>\n",
              "      <td>False</td>\n",
              "      <td>861773</td>\n",
              "      <td>16</td>\n",
              "      <td>6054.37859</td>\n",
              "      <td>0.0143</td>\n",
              "      <td>Norte</td>\n",
              "    </tr>\n",
              "    <tr>\n",
              "      <th>4</th>\n",
              "      <td>2020-10-31</td>\n",
              "      <td>BA</td>\n",
              "      <td>353157</td>\n",
              "      <td>7622</td>\n",
              "      <td>False</td>\n",
              "      <td>14930634</td>\n",
              "      <td>29</td>\n",
              "      <td>2365.31818</td>\n",
              "      <td>0.0216</td>\n",
              "      <td>Nordeste</td>\n",
              "    </tr>\n",
              "  </tbody>\n",
              "</table>\n",
              "</div>"
            ],
            "text/plain": [
              "        date state  ...  death_rate    região\n",
              "0 2020-10-31    AC  ...      0.0225     Norte\n",
              "1 2020-10-31    AL  ...      0.0247  Nordeste\n",
              "2 2020-10-31    AM  ...      0.0281     Norte\n",
              "3 2020-10-31    AP  ...      0.0143     Norte\n",
              "4 2020-10-31    BA  ...      0.0216  Nordeste\n",
              "\n",
              "[5 rows x 10 columns]"
            ]
          },
          "metadata": {
            "tags": []
          },
          "execution_count": 10
        }
      ]
    },
    {
      "cell_type": "markdown",
      "metadata": {
        "id": "hETkUBwc3PoT"
      },
      "source": [
        "## Explorando os dados"
      ]
    },
    {
      "cell_type": "code",
      "metadata": {
        "colab": {
          "base_uri": "https://localhost:8080/",
          "height": 198
        },
        "id": "Hlp7uoYv7L-q",
        "outputId": "5ef8b942-cdca-4838-ead6-5e327e91aaa2"
      },
      "source": [
        "df_main.head()"
      ],
      "execution_count": 11,
      "outputs": [
        {
          "output_type": "execute_result",
          "data": {
            "text/html": [
              "<div>\n",
              "<style scoped>\n",
              "    .dataframe tbody tr th:only-of-type {\n",
              "        vertical-align: middle;\n",
              "    }\n",
              "\n",
              "    .dataframe tbody tr th {\n",
              "        vertical-align: top;\n",
              "    }\n",
              "\n",
              "    .dataframe thead th {\n",
              "        text-align: right;\n",
              "    }\n",
              "</style>\n",
              "<table border=\"1\" class=\"dataframe\">\n",
              "  <thead>\n",
              "    <tr style=\"text-align: right;\">\n",
              "      <th></th>\n",
              "      <th>date</th>\n",
              "      <th>state</th>\n",
              "      <th>confirmed</th>\n",
              "      <th>deaths</th>\n",
              "      <th>is_last</th>\n",
              "      <th>estimated_population</th>\n",
              "      <th>city_ibge_code</th>\n",
              "      <th>confirmed_per_100k_inhabitants</th>\n",
              "      <th>death_rate</th>\n",
              "      <th>região</th>\n",
              "    </tr>\n",
              "  </thead>\n",
              "  <tbody>\n",
              "    <tr>\n",
              "      <th>0</th>\n",
              "      <td>2020-10-31</td>\n",
              "      <td>AC</td>\n",
              "      <td>30796</td>\n",
              "      <td>693</td>\n",
              "      <td>False</td>\n",
              "      <td>894470</td>\n",
              "      <td>12</td>\n",
              "      <td>3442.93269</td>\n",
              "      <td>0.0225</td>\n",
              "      <td>Norte</td>\n",
              "    </tr>\n",
              "    <tr>\n",
              "      <th>1</th>\n",
              "      <td>2020-10-31</td>\n",
              "      <td>AL</td>\n",
              "      <td>90789</td>\n",
              "      <td>2238</td>\n",
              "      <td>False</td>\n",
              "      <td>3351543</td>\n",
              "      <td>27</td>\n",
              "      <td>2708.87170</td>\n",
              "      <td>0.0247</td>\n",
              "      <td>Nordeste</td>\n",
              "    </tr>\n",
              "    <tr>\n",
              "      <th>2</th>\n",
              "      <td>2020-10-31</td>\n",
              "      <td>AM</td>\n",
              "      <td>161683</td>\n",
              "      <td>4543</td>\n",
              "      <td>False</td>\n",
              "      <td>4207714</td>\n",
              "      <td>13</td>\n",
              "      <td>3842.53778</td>\n",
              "      <td>0.0281</td>\n",
              "      <td>Norte</td>\n",
              "    </tr>\n",
              "    <tr>\n",
              "      <th>3</th>\n",
              "      <td>2020-10-31</td>\n",
              "      <td>AP</td>\n",
              "      <td>52175</td>\n",
              "      <td>748</td>\n",
              "      <td>False</td>\n",
              "      <td>861773</td>\n",
              "      <td>16</td>\n",
              "      <td>6054.37859</td>\n",
              "      <td>0.0143</td>\n",
              "      <td>Norte</td>\n",
              "    </tr>\n",
              "    <tr>\n",
              "      <th>4</th>\n",
              "      <td>2020-10-31</td>\n",
              "      <td>BA</td>\n",
              "      <td>353157</td>\n",
              "      <td>7622</td>\n",
              "      <td>False</td>\n",
              "      <td>14930634</td>\n",
              "      <td>29</td>\n",
              "      <td>2365.31818</td>\n",
              "      <td>0.0216</td>\n",
              "      <td>Nordeste</td>\n",
              "    </tr>\n",
              "  </tbody>\n",
              "</table>\n",
              "</div>"
            ],
            "text/plain": [
              "        date state  ...  death_rate    região\n",
              "0 2020-10-31    AC  ...      0.0225     Norte\n",
              "1 2020-10-31    AL  ...      0.0247  Nordeste\n",
              "2 2020-10-31    AM  ...      0.0281     Norte\n",
              "3 2020-10-31    AP  ...      0.0143     Norte\n",
              "4 2020-10-31    BA  ...      0.0216  Nordeste\n",
              "\n",
              "[5 rows x 10 columns]"
            ]
          },
          "metadata": {
            "tags": []
          },
          "execution_count": 11
        }
      ]
    },
    {
      "cell_type": "markdown",
      "metadata": {
        "id": "fidNa_TfzwAB"
      },
      "source": [
        "Quero visualizar os números referentes ao último dia reportado para determinar quantos casos e quantas óbitos haviam naquela determinada data."
      ]
    },
    {
      "cell_type": "code",
      "metadata": {
        "colab": {
          "base_uri": "https://localhost:8080/"
        },
        "id": "5GCaoQG23bd9",
        "outputId": "2c83e829-2cb8-4602-c4b1-f303d2424103"
      },
      "source": [
        "# Criando a variável de seleção com casos do último dia reportado.\n",
        "selecao_last_day = df_main['date'] == '2020-10-31'\n",
        "\n",
        "# Conferindo quantas colunas apresentam dados no dia 31/10, por meio da soma dos True que retornou da minha query\n",
        "selecao_last_day.sum()"
      ],
      "execution_count": 12,
      "outputs": [
        {
          "output_type": "execute_result",
          "data": {
            "text/plain": [
              "25"
            ]
          },
          "metadata": {
            "tags": []
          },
          "execution_count": 12
        }
      ]
    },
    {
      "cell_type": "code",
      "metadata": {
        "colab": {
          "base_uri": "https://localhost:8080/"
        },
        "id": "IL5G8QMOZ6zt",
        "outputId": "c5813dbf-9988-4eba-f16f-a0a21d20fa96"
      },
      "source": [
        "# Temos 27 estados, mas somente 25 registros de casos no dia 31/10. Vamos tentar ver agora os registros do dia anterior. Se houver 27, então temos os registros em todas UF.\n",
        "selecao_last_day = df_main['date'] == '2020-10-30'\n",
        "selecao_last_day.sum()"
      ],
      "execution_count": 13,
      "outputs": [
        {
          "output_type": "execute_result",
          "data": {
            "text/plain": [
              "27"
            ]
          },
          "metadata": {
            "tags": []
          },
          "execution_count": 13
        }
      ]
    },
    {
      "cell_type": "code",
      "metadata": {
        "id": "nYmDwvid9BHg"
      },
      "source": [
        "# Tenho todos os registros no dia 30/10, portanto fica definido que a data limite é o dia 30/10/2020.\n",
        "# O impacto que um dia completo de dados causa pode ser alto, mas aqui busca-se simplificar o estudo.\n",
        "# E é importante salientar que o dia 31/10 foi um dia de final de semana, e a notificação costuma ser menor nesses dias, portanto o impacto pode ser menor.\n",
        "\n",
        "# Criando DataFrame com os números do dia último dia de registros e somando os casos\n",
        "\n",
        "last_day = df_main[selecao_last_day]\n",
        "confirmed_total = last_day['confirmed'].sum()\n",
        "\n",
        "# Realizando a soma do total de mortes\n",
        "deaths_total = last_day['deaths'].sum()"
      ],
      "execution_count": 14,
      "outputs": []
    },
    {
      "cell_type": "markdown",
      "metadata": {
        "id": "xso7MryrdHIO"
      },
      "source": [
        "Conferindo números absolutos de casos, óbitos e taxa de mortalidade\n",
        "\n",
        "\n"
      ]
    },
    {
      "cell_type": "code",
      "metadata": {
        "colab": {
          "base_uri": "https://localhost:8080/"
        },
        "id": "EktCo4Jb-09M",
        "outputId": "499540d5-cb13-4240-b238-add50fcc0a1d"
      },
      "source": [
        "\n",
        "print(f'Temos o total de {confirmed_total} casos confirmados e {deaths_total} óbitos até o dia 30/10/2020, de acordo com os últimos dados disponibilizados pelas secretarias de saúde dos estados')\n",
        "print(f'Temos uma taxa de mortalidade de {((deaths_total / confirmed_total) * 100).round(2)} %')"
      ],
      "execution_count": 15,
      "outputs": [
        {
          "output_type": "stream",
          "text": [
            "Temos o total de 5524593 casos confirmados e 159680 óbitos até o dia 30/10/2020, de acordo com os últimos dados disponibilizados pelas secretarias de saúde dos estados\n",
            "Temos uma taxa de mortalidade de 2.89 %\n"
          ],
          "name": "stdout"
        }
      ]
    },
    {
      "cell_type": "code",
      "metadata": {
        "colab": {
          "base_uri": "https://localhost:8080/",
          "height": 198
        },
        "id": "HzLrNBMikYYB",
        "outputId": "62817176-07c9-454f-8008-dffd1262b740"
      },
      "source": [
        "# Conferindo o total de casos por estado\n",
        "cases = df_main[['state', 'confirmed']]\n",
        "cases = cases[selecao_last_day].sort_values(by = 'confirmed', ascending = False)\n",
        "cases.head()"
      ],
      "execution_count": 16,
      "outputs": [
        {
          "output_type": "execute_result",
          "data": {
            "text/html": [
              "<div>\n",
              "<style scoped>\n",
              "    .dataframe tbody tr th:only-of-type {\n",
              "        vertical-align: middle;\n",
              "    }\n",
              "\n",
              "    .dataframe tbody tr th {\n",
              "        vertical-align: top;\n",
              "    }\n",
              "\n",
              "    .dataframe thead th {\n",
              "        text-align: right;\n",
              "    }\n",
              "</style>\n",
              "<table border=\"1\" class=\"dataframe\">\n",
              "  <thead>\n",
              "    <tr style=\"text-align: right;\">\n",
              "      <th></th>\n",
              "      <th>state</th>\n",
              "      <th>confirmed</th>\n",
              "    </tr>\n",
              "  </thead>\n",
              "  <tbody>\n",
              "    <tr>\n",
              "      <th>50</th>\n",
              "      <td>SP</td>\n",
              "      <td>1113788</td>\n",
              "    </tr>\n",
              "    <tr>\n",
              "      <th>35</th>\n",
              "      <td>MG</td>\n",
              "      <td>358971</td>\n",
              "    </tr>\n",
              "    <tr>\n",
              "      <th>29</th>\n",
              "      <td>BA</td>\n",
              "      <td>352700</td>\n",
              "    </tr>\n",
              "    <tr>\n",
              "      <th>43</th>\n",
              "      <td>RJ</td>\n",
              "      <td>309496</td>\n",
              "    </tr>\n",
              "    <tr>\n",
              "      <th>30</th>\n",
              "      <td>CE</td>\n",
              "      <td>273743</td>\n",
              "    </tr>\n",
              "  </tbody>\n",
              "</table>\n",
              "</div>"
            ],
            "text/plain": [
              "   state  confirmed\n",
              "50    SP    1113788\n",
              "35    MG     358971\n",
              "29    BA     352700\n",
              "43    RJ     309496\n",
              "30    CE     273743"
            ]
          },
          "metadata": {
            "tags": []
          },
          "execution_count": 16
        }
      ]
    },
    {
      "cell_type": "code",
      "metadata": {
        "colab": {
          "base_uri": "https://localhost:8080/",
          "height": 537
        },
        "id": "9518JLawlHEg",
        "outputId": "3e2dcf08-c69f-431f-d270-7878a410e13e"
      },
      "source": [
        "# Plotando o gráfico de total de casos por estado\n",
        "\n",
        "ax = cases.plot(x = 'state', y = 'confirmed', kind = 'bar', figsize= (12,8))\n",
        "ax.yaxis.set_major_formatter(ticker.StrMethodFormatter('{x: ,.0f}'))\n",
        "\n",
        "plt.title('Total de casos por estado até o dia de março a outubro', fontsize = 18, fontweight = 'bold', y = 1.03)\n",
        "plt.ylabel('cases', fontsize= 12)\n",
        "ax.get_legend().remove()\n",
        "plt.show()"
      ],
      "execution_count": 40,
      "outputs": [
        {
          "output_type": "display_data",
          "data": {
            "image/png": "[encoded data removed]",
            "text/plain": [
              "<Figure size 864x576 with 1 Axes>"
            ]
          },
          "metadata": {
            "tags": [],
            "needs_background": "light"
          }
        }
      ]
    },
    {
      "cell_type": "code",
      "metadata": {
        "colab": {
          "base_uri": "https://localhost:8080/",
          "height": 198
        },
        "id": "XoByxL-Tm_Rb",
        "outputId": "1611d53c-3800-40e4-a173-855792c0570d"
      },
      "source": [
        "# Conferindo o total de óbitos por estado\n",
        "\n",
        "deaths = df_main[['state', 'deaths']]\n",
        "deaths = deaths[selecao_last_day].sort_values(by = 'deaths', ascending = False)\n",
        "deaths.head()"
      ],
      "execution_count": 18,
      "outputs": [
        {
          "output_type": "execute_result",
          "data": {
            "text/html": [
              "<div>\n",
              "<style scoped>\n",
              "    .dataframe tbody tr th:only-of-type {\n",
              "        vertical-align: middle;\n",
              "    }\n",
              "\n",
              "    .dataframe tbody tr th {\n",
              "        vertical-align: top;\n",
              "    }\n",
              "\n",
              "    .dataframe thead th {\n",
              "        text-align: right;\n",
              "    }\n",
              "</style>\n",
              "<table border=\"1\" class=\"dataframe\">\n",
              "  <thead>\n",
              "    <tr style=\"text-align: right;\">\n",
              "      <th></th>\n",
              "      <th>state</th>\n",
              "      <th>deaths</th>\n",
              "    </tr>\n",
              "  </thead>\n",
              "  <tbody>\n",
              "    <tr>\n",
              "      <th>50</th>\n",
              "      <td>SP</td>\n",
              "      <td>39255</td>\n",
              "    </tr>\n",
              "    <tr>\n",
              "      <th>43</th>\n",
              "      <td>RJ</td>\n",
              "      <td>20565</td>\n",
              "    </tr>\n",
              "    <tr>\n",
              "      <th>30</th>\n",
              "      <td>CE</td>\n",
              "      <td>9344</td>\n",
              "    </tr>\n",
              "    <tr>\n",
              "      <th>35</th>\n",
              "      <td>MG</td>\n",
              "      <td>9015</td>\n",
              "    </tr>\n",
              "    <tr>\n",
              "      <th>40</th>\n",
              "      <td>PE</td>\n",
              "      <td>8609</td>\n",
              "    </tr>\n",
              "  </tbody>\n",
              "</table>\n",
              "</div>"
            ],
            "text/plain": [
              "   state  deaths\n",
              "50    SP   39255\n",
              "43    RJ   20565\n",
              "30    CE    9344\n",
              "35    MG    9015\n",
              "40    PE    8609"
            ]
          },
          "metadata": {
            "tags": []
          },
          "execution_count": 18
        }
      ]
    },
    {
      "cell_type": "code",
      "metadata": {
        "colab": {
          "base_uri": "https://localhost:8080/",
          "height": 540
        },
        "id": "z0tpfJ2Rr-np",
        "outputId": "c151149d-ca25-4f73-b600-306ea2dfc434"
      },
      "source": [
        "# Plotando gráfico do total de mortes\n",
        "ax = deaths.plot(x = 'state', y = 'deaths', kind = 'bar', figsize= (12,8))\n",
        "ax.yaxis.set_major_formatter(ticker.StrMethodFormatter('{x: ,.0f}'))\n",
        "\n",
        "plt.title('Total de mortes por estado até o dia de março a outubro', fontsize = 18, fontweight = 'bold', y = 1.03)\n",
        "plt.xlabel('Estados', fontsize = 12)\n",
        "plt.ylabel('Total de mortes', fontsize= 12)\n",
        "ax.get_legend().remove()\n",
        "plt.show()"
      ],
      "execution_count": 19,
      "outputs": [
        {
          "output_type": "display_data",
          "data": {
            "image/png": "[encoded data removed]",
            "text/plain": [
              "<Figure size 864x576 with 1 Axes>"
            ]
          },
          "metadata": {
            "tags": [],
            "needs_background": "light"
          }
        }
      ]
    },
    {
      "cell_type": "markdown",
      "metadata": {
        "id": "dScOnFYK0IDp"
      },
      "source": [
        "São Paulo tem disparado o maior número de casos e de mortes registradas por Covid-19. Não à toa, se trata do estado mais populoso do Brasil, e possui a maior aglomeração urbana do pais que é a região metropolitana de São Paulo. \n",
        "\n",
        "Outro caso interessante é do estado do Rio de Janeiro, pode-se ver que é o 4º estado com mais casos, mas o segundo com mais mortes. E aí temos duas hipóteses, ou o sistema de saúde não oferece acesso a um bom tratamento, e por isso a taxa de morte foi de fato maior, ou há uma subnotificação dos casos confirmados.\n"
      ]
    },
    {
      "cell_type": "code",
      "metadata": {
        "colab": {
          "base_uri": "https://localhost:8080/",
          "height": 198
        },
        "id": "JOqmTYjDvaUn",
        "outputId": "12a63f51-4e69-485a-bba4-3ca92907ad85"
      },
      "source": [
        "# Checando a taxa de mortalidade, pelo número de mortes/número de casos\n",
        "\n",
        "death_rate = df_main[['state', 'death_rate']]\n",
        "death_rate = death_rate[selecao_last_day].sort_values(by = 'death_rate', ascending = False)\n",
        "death_rate['death_rate'] = death_rate['death_rate'] * 100\n",
        "death_rate.head()"
      ],
      "execution_count": 20,
      "outputs": [
        {
          "output_type": "execute_result",
          "data": {
            "text/html": [
              "<div>\n",
              "<style scoped>\n",
              "    .dataframe tbody tr th:only-of-type {\n",
              "        vertical-align: middle;\n",
              "    }\n",
              "\n",
              "    .dataframe tbody tr th {\n",
              "        vertical-align: top;\n",
              "    }\n",
              "\n",
              "    .dataframe thead th {\n",
              "        text-align: right;\n",
              "    }\n",
              "</style>\n",
              "<table border=\"1\" class=\"dataframe\">\n",
              "  <thead>\n",
              "    <tr style=\"text-align: right;\">\n",
              "      <th></th>\n",
              "      <th>state</th>\n",
              "      <th>death_rate</th>\n",
              "    </tr>\n",
              "  </thead>\n",
              "  <tbody>\n",
              "    <tr>\n",
              "      <th>43</th>\n",
              "      <td>RJ</td>\n",
              "      <td>6.64</td>\n",
              "    </tr>\n",
              "    <tr>\n",
              "      <th>40</th>\n",
              "      <td>PE</td>\n",
              "      <td>5.30</td>\n",
              "    </tr>\n",
              "    <tr>\n",
              "      <th>50</th>\n",
              "      <td>SP</td>\n",
              "      <td>3.52</td>\n",
              "    </tr>\n",
              "    <tr>\n",
              "      <th>30</th>\n",
              "      <td>CE</td>\n",
              "      <td>3.41</td>\n",
              "    </tr>\n",
              "    <tr>\n",
              "      <th>44</th>\n",
              "      <td>RN</td>\n",
              "      <td>3.17</td>\n",
              "    </tr>\n",
              "  </tbody>\n",
              "</table>\n",
              "</div>"
            ],
            "text/plain": [
              "   state  death_rate\n",
              "43    RJ        6.64\n",
              "40    PE        5.30\n",
              "50    SP        3.52\n",
              "30    CE        3.41\n",
              "44    RN        3.17"
            ]
          },
          "metadata": {
            "tags": []
          },
          "execution_count": 20
        }
      ]
    },
    {
      "cell_type": "code",
      "metadata": {
        "colab": {
          "base_uri": "https://localhost:8080/",
          "height": 542
        },
        "id": "PwzRXQ6Dwy6e",
        "outputId": "74e28bbf-6fb1-4470-e1a3-1cb91d5b9761"
      },
      "source": [
        "# Plotando o gráfico da taxa de morte\n",
        "\n",
        "ax = death_rate.plot(x = 'state', y = 'death_rate', kind = 'bar', figsize= (12,8))\n",
        "\n",
        "plt.title('Taxa de mortalidade (Óbitos/Casos) de março a outubro', fontsize = 18, fontweight = 'bold', y = 1.03)\n",
        "plt.xlabel('Estados', fontsize = 12)\n",
        "plt.ylabel('Taxa de morte (%)', fontsize= 12)\n",
        "ax.get_legend().remove()\n",
        "plt.show()"
      ],
      "execution_count": 21,
      "outputs": [
        {
          "output_type": "display_data",
          "data": {
            "image/png": "[encoded data removed]",
            "text/plain": [
              "<Figure size 864x576 with 1 Axes>"
            ]
          },
          "metadata": {
            "tags": [],
            "needs_background": "light"
          }
        }
      ]
    },
    {
      "cell_type": "markdown",
      "metadata": {
        "id": "xI7bXLW9c7jI"
      },
      "source": [
        "A Taxa de mortalidade aqui é calculada apenas pela razão de mortes x casos confirmados. Ela pode não refletir a realidade devido ao fato do Brasil não fazer muitos testes, e se estima que uma parcela maior da população contraiu o vírus. Mas serve como um indicativo que demonstra ao menos um menor controle de pandemia, pois a média de mortalidade no país é 2,89% com base nos dados totais.\n",
        "\n",
        "Rio e Pernambuco são os estados que mais distoam dessa média, portando pode-se considerar estados que tem um controle pior da pandemia, ou pelo fato de realmente ter taxas de mortalidades elevadas, ou pelo fato de não aplicarem muitos testes, o que infla essa taxa.  Vamos ver como é o comportamento quando analisamos somente os casos e mortes por 100k de habitantes"
      ]
    },
    {
      "cell_type": "code",
      "metadata": {
        "colab": {
          "base_uri": "https://localhost:8080/",
          "height": 307
        },
        "id": "4e3cK7gtJ1AS",
        "outputId": "91717f23-ad66-4854-af6e-f6784a93eec8"
      },
      "source": [
        " # Já temos uma variável de quantidade de casos a cada 100k de habitantes, agora vamos criar uma para o número de óbitos para essa proporção.\n",
        "last_day['deaths_per_100k'] =  last_day['deaths'] / (last_day['estimated_population'] / 100000)\n",
        "last_day.head()"
      ],
      "execution_count": 22,
      "outputs": [
        {
          "output_type": "stream",
          "text": [
            "/usr/local/lib/python3.6/dist-packages/ipykernel_launcher.py:2: SettingWithCopyWarning: \n",
            "A value is trying to be set on a copy of a slice from a DataFrame.\n",
            "Try using .loc[row_indexer,col_indexer] = value instead\n",
            "\n",
            "See the caveats in the documentation: https://pandas.pydata.org/pandas-docs/stable/user_guide/indexing.html#returning-a-view-versus-a-copy\n",
            "  \n"
          ],
          "name": "stderr"
        },
        {
          "output_type": "execute_result",
          "data": {
            "text/html": [
              "<div>\n",
              "<style scoped>\n",
              "    .dataframe tbody tr th:only-of-type {\n",
              "        vertical-align: middle;\n",
              "    }\n",
              "\n",
              "    .dataframe tbody tr th {\n",
              "        vertical-align: top;\n",
              "    }\n",
              "\n",
              "    .dataframe thead th {\n",
              "        text-align: right;\n",
              "    }\n",
              "</style>\n",
              "<table border=\"1\" class=\"dataframe\">\n",
              "  <thead>\n",
              "    <tr style=\"text-align: right;\">\n",
              "      <th></th>\n",
              "      <th>date</th>\n",
              "      <th>state</th>\n",
              "      <th>confirmed</th>\n",
              "      <th>deaths</th>\n",
              "      <th>is_last</th>\n",
              "      <th>estimated_population</th>\n",
              "      <th>city_ibge_code</th>\n",
              "      <th>confirmed_per_100k_inhabitants</th>\n",
              "      <th>death_rate</th>\n",
              "      <th>região</th>\n",
              "      <th>deaths_per_100k</th>\n",
              "    </tr>\n",
              "  </thead>\n",
              "  <tbody>\n",
              "    <tr>\n",
              "      <th>25</th>\n",
              "      <td>2020-10-30</td>\n",
              "      <td>AC</td>\n",
              "      <td>30758</td>\n",
              "      <td>693</td>\n",
              "      <td>False</td>\n",
              "      <td>894470</td>\n",
              "      <td>12</td>\n",
              "      <td>3438.68436</td>\n",
              "      <td>0.0225</td>\n",
              "      <td>Norte</td>\n",
              "      <td>77.476047</td>\n",
              "    </tr>\n",
              "    <tr>\n",
              "      <th>26</th>\n",
              "      <td>2020-10-30</td>\n",
              "      <td>AL</td>\n",
              "      <td>90671</td>\n",
              "      <td>2234</td>\n",
              "      <td>False</td>\n",
              "      <td>3351543</td>\n",
              "      <td>27</td>\n",
              "      <td>2705.35094</td>\n",
              "      <td>0.0246</td>\n",
              "      <td>Nordeste</td>\n",
              "      <td>66.655866</td>\n",
              "    </tr>\n",
              "    <tr>\n",
              "      <th>27</th>\n",
              "      <td>2020-10-30</td>\n",
              "      <td>AM</td>\n",
              "      <td>161434</td>\n",
              "      <td>4528</td>\n",
              "      <td>False</td>\n",
              "      <td>4207714</td>\n",
              "      <td>13</td>\n",
              "      <td>3836.62007</td>\n",
              "      <td>0.0280</td>\n",
              "      <td>Norte</td>\n",
              "      <td>107.611877</td>\n",
              "    </tr>\n",
              "    <tr>\n",
              "      <th>28</th>\n",
              "      <td>2020-10-30</td>\n",
              "      <td>AP</td>\n",
              "      <td>52030</td>\n",
              "      <td>747</td>\n",
              "      <td>False</td>\n",
              "      <td>861773</td>\n",
              "      <td>16</td>\n",
              "      <td>6037.55281</td>\n",
              "      <td>0.0144</td>\n",
              "      <td>Norte</td>\n",
              "      <td>86.681760</td>\n",
              "    </tr>\n",
              "    <tr>\n",
              "      <th>29</th>\n",
              "      <td>2020-10-30</td>\n",
              "      <td>BA</td>\n",
              "      <td>352700</td>\n",
              "      <td>7600</td>\n",
              "      <td>False</td>\n",
              "      <td>14930634</td>\n",
              "      <td>29</td>\n",
              "      <td>2362.25736</td>\n",
              "      <td>0.0215</td>\n",
              "      <td>Nordeste</td>\n",
              "      <td>50.902058</td>\n",
              "    </tr>\n",
              "  </tbody>\n",
              "</table>\n",
              "</div>"
            ],
            "text/plain": [
              "         date state  confirmed  ...  death_rate    região  deaths_per_100k\n",
              "25 2020-10-30    AC      30758  ...      0.0225     Norte        77.476047\n",
              "26 2020-10-30    AL      90671  ...      0.0246  Nordeste        66.655866\n",
              "27 2020-10-30    AM     161434  ...      0.0280     Norte       107.611877\n",
              "28 2020-10-30    AP      52030  ...      0.0144     Norte        86.681760\n",
              "29 2020-10-30    BA     352700  ...      0.0215  Nordeste        50.902058\n",
              "\n",
              "[5 rows x 11 columns]"
            ]
          },
          "metadata": {
            "tags": []
          },
          "execution_count": 22
        }
      ]
    },
    {
      "cell_type": "code",
      "metadata": {
        "colab": {
          "base_uri": "https://localhost:8080/",
          "height": 832
        },
        "id": "X_GOgFjkN3Ie",
        "outputId": "5cc04e1c-2d5c-496a-eef2-8649a8e51563"
      },
      "source": [
        "# Gráfico dos casos por 100 mil habitantes\n",
        "ax = last_day.sort_values(by = 'confirmed_per_100k_inhabitants', ascending = False).plot(x = 'state', y = 'confirmed_per_100k_inhabitants', kind = 'bar', figsize=(10,6))\n",
        "plt.title('Total de casos por 100 mil habitantes', fontsize = 18, fontweight = 'bold', y = 1.03)\n",
        "plt.ylabel('casos', fontsize= 10)\n",
        "\n",
        "# Gráfico dos mortes por 100 mil habitantes\n",
        "ax = last_day.sort_values(by = 'deaths_per_100k', ascending = False).plot(x = 'state', y = 'deaths_per_100k', kind = 'bar', figsize=(10,6), color = 'red')\n",
        "plt.title('Total de óbitos por 100 mil habitantes', fontsize = 18, fontweight = 'bold', y = 1.03)\n",
        "plt.ylabel('óbitos', fontsize= 10)\n",
        "\n",
        "ax.get_legend().remove()\n",
        "plt.show()"
      ],
      "execution_count": 23,
      "outputs": [
        {
          "output_type": "display_data",
          "data": {
            "image/png": "[encoded data removed]",
            "text/plain": [
              "<Figure size 720x432 with 1 Axes>"
            ]
          },
          "metadata": {
            "tags": [],
            "needs_background": "light"
          }
        },
        {
          "output_type": "display_data",
          "data": {
            "image/png": "[encoded data removed]",
            "text/plain": [
              "<Figure size 720x432 with 1 Axes>"
            ]
          },
          "metadata": {
            "tags": [],
            "needs_background": "light"
          }
        }
      ]
    },
    {
      "cell_type": "markdown",
      "metadata": {
        "id": "yLKCAHdITpPo"
      },
      "source": [
        "Esse gráfico nos dá um panorama melhor de como os números realmente impactaram na população de cada estado.\n",
        "\n",
        "Pode-se ver aqui que o estado de Roraima é o que mais teve casos confirmados a cada 100 mil habitantes, e teve uma quantidade considerável também de mortes. Por essa análise pode-se dizer que foi bem afetado.\n",
        "\n",
        "Podemos notar também que os números são altos nos estados da região norte, o que levanta a hipotese dessa ter sido a região mais afetada. Em contrapartida, a região sul registrou números mais baixos, o que leva a crer que foi a região que sofreu menor impacto."
      ]
    },
    {
      "cell_type": "markdown",
      "metadata": {
        "id": "8PgyAYesVuX0"
      },
      "source": [
        "#Explorando dados por região\n"
      ]
    },
    {
      "cell_type": "code",
      "metadata": {
        "colab": {
          "base_uri": "https://localhost:8080/",
          "height": 198
        },
        "id": "dWI6SoCEVqgI",
        "outputId": "c272bade-be83-4d79-f9f7-11366363db0e"
      },
      "source": [
        "# Conferindo novamente o cabeçalho da base de dados\n",
        "last_day.head()"
      ],
      "execution_count": 24,
      "outputs": [
        {
          "output_type": "execute_result",
          "data": {
            "text/html": [
              "<div>\n",
              "<style scoped>\n",
              "    .dataframe tbody tr th:only-of-type {\n",
              "        vertical-align: middle;\n",
              "    }\n",
              "\n",
              "    .dataframe tbody tr th {\n",
              "        vertical-align: top;\n",
              "    }\n",
              "\n",
              "    .dataframe thead th {\n",
              "        text-align: right;\n",
              "    }\n",
              "</style>\n",
              "<table border=\"1\" class=\"dataframe\">\n",
              "  <thead>\n",
              "    <tr style=\"text-align: right;\">\n",
              "      <th></th>\n",
              "      <th>date</th>\n",
              "      <th>state</th>\n",
              "      <th>confirmed</th>\n",
              "      <th>deaths</th>\n",
              "      <th>is_last</th>\n",
              "      <th>estimated_population</th>\n",
              "      <th>city_ibge_code</th>\n",
              "      <th>confirmed_per_100k_inhabitants</th>\n",
              "      <th>death_rate</th>\n",
              "      <th>região</th>\n",
              "      <th>deaths_per_100k</th>\n",
              "    </tr>\n",
              "  </thead>\n",
              "  <tbody>\n",
              "    <tr>\n",
              "      <th>25</th>\n",
              "      <td>2020-10-30</td>\n",
              "      <td>AC</td>\n",
              "      <td>30758</td>\n",
              "      <td>693</td>\n",
              "      <td>False</td>\n",
              "      <td>894470</td>\n",
              "      <td>12</td>\n",
              "      <td>3438.68436</td>\n",
              "      <td>0.0225</td>\n",
              "      <td>Norte</td>\n",
              "      <td>77.476047</td>\n",
              "    </tr>\n",
              "    <tr>\n",
              "      <th>26</th>\n",
              "      <td>2020-10-30</td>\n",
              "      <td>AL</td>\n",
              "      <td>90671</td>\n",
              "      <td>2234</td>\n",
              "      <td>False</td>\n",
              "      <td>3351543</td>\n",
              "      <td>27</td>\n",
              "      <td>2705.35094</td>\n",
              "      <td>0.0246</td>\n",
              "      <td>Nordeste</td>\n",
              "      <td>66.655866</td>\n",
              "    </tr>\n",
              "    <tr>\n",
              "      <th>27</th>\n",
              "      <td>2020-10-30</td>\n",
              "      <td>AM</td>\n",
              "      <td>161434</td>\n",
              "      <td>4528</td>\n",
              "      <td>False</td>\n",
              "      <td>4207714</td>\n",
              "      <td>13</td>\n",
              "      <td>3836.62007</td>\n",
              "      <td>0.0280</td>\n",
              "      <td>Norte</td>\n",
              "      <td>107.611877</td>\n",
              "    </tr>\n",
              "    <tr>\n",
              "      <th>28</th>\n",
              "      <td>2020-10-30</td>\n",
              "      <td>AP</td>\n",
              "      <td>52030</td>\n",
              "      <td>747</td>\n",
              "      <td>False</td>\n",
              "      <td>861773</td>\n",
              "      <td>16</td>\n",
              "      <td>6037.55281</td>\n",
              "      <td>0.0144</td>\n",
              "      <td>Norte</td>\n",
              "      <td>86.681760</td>\n",
              "    </tr>\n",
              "    <tr>\n",
              "      <th>29</th>\n",
              "      <td>2020-10-30</td>\n",
              "      <td>BA</td>\n",
              "      <td>352700</td>\n",
              "      <td>7600</td>\n",
              "      <td>False</td>\n",
              "      <td>14930634</td>\n",
              "      <td>29</td>\n",
              "      <td>2362.25736</td>\n",
              "      <td>0.0215</td>\n",
              "      <td>Nordeste</td>\n",
              "      <td>50.902058</td>\n",
              "    </tr>\n",
              "  </tbody>\n",
              "</table>\n",
              "</div>"
            ],
            "text/plain": [
              "         date state  confirmed  ...  death_rate    região  deaths_per_100k\n",
              "25 2020-10-30    AC      30758  ...      0.0225     Norte        77.476047\n",
              "26 2020-10-30    AL      90671  ...      0.0246  Nordeste        66.655866\n",
              "27 2020-10-30    AM     161434  ...      0.0280     Norte       107.611877\n",
              "28 2020-10-30    AP      52030  ...      0.0144     Norte        86.681760\n",
              "29 2020-10-30    BA     352700  ...      0.0215  Nordeste        50.902058\n",
              "\n",
              "[5 rows x 11 columns]"
            ]
          },
          "metadata": {
            "tags": []
          },
          "execution_count": 24
        }
      ]
    },
    {
      "cell_type": "code",
      "metadata": {
        "id": "sBi6ZXDFVt3z"
      },
      "source": [
        "# Criando variável de para agrupar os números por região, em cima do DataFrame dos dados do último dia.\n",
        "grupo_regiao = last_day.groupby('região')"
      ],
      "execution_count": 25,
      "outputs": []
    },
    {
      "cell_type": "code",
      "metadata": {
        "colab": {
          "base_uri": "https://localhost:8080/",
          "height": 468
        },
        "id": "9q7fMkK8W0md",
        "outputId": "7fd66fbc-a289-4d18-c64b-a34ed9fd482d"
      },
      "source": [
        "# Plotando gráfico de números absolutos de casos por região\n",
        "ax = grupo_regiao['confirmed'].sum().sort_values(ascending = False).plot(figsize=(10,6), kind = 'bar')\n",
        "ax.yaxis.set_major_formatter(ticker.StrMethodFormatter('{x: ,.0f}'))\n",
        "\n",
        "plt.title('Total de casos por cada região até 30/11', fontsize = 16, fontweight = 'bold', y = 1.02)\n",
        "plt.ylabel('casos')\n",
        "\n",
        "plt.show()"
      ],
      "execution_count": 26,
      "outputs": [
        {
          "output_type": "display_data",
          "data": {
            "image/png": "[encoded data removed]",
            "text/plain": [
              "<Figure size 720x432 with 1 Axes>"
            ]
          },
          "metadata": {
            "tags": [],
            "needs_background": "light"
          }
        }
      ]
    },
    {
      "cell_type": "code",
      "metadata": {
        "colab": {
          "base_uri": "https://localhost:8080/",
          "height": 468
        },
        "id": "ird2kP2Dnt1n",
        "outputId": "0e1eff07-bf76-4f77-e76a-59ab83c0550f"
      },
      "source": [
        "# Plotando o gráfico com os números absolutos de óbitos por região\n",
        "ax = grupo_regiao['deaths'].sum().sort_values(ascending = False).plot(figsize=(10,6), kind = 'bar')\n",
        "ax.yaxis.set_major_formatter(ticker.StrMethodFormatter('{x: ,.0f}'))\n",
        "\n",
        "plt.title('Total de óbitos por cada região até 30/11', fontsize = 16, fontweight = 'bold', y = 1.02)\n",
        "plt.ylabel('óbitos')\n",
        "\n",
        "plt.show()"
      ],
      "execution_count": 27,
      "outputs": [
        {
          "output_type": "display_data",
          "data": {
            "image/png": "[encoded data removed]",
            "text/plain": [
              "<Figure size 720x432 with 1 Axes>"
            ]
          },
          "metadata": {
            "tags": [],
            "needs_background": "light"
          }
        }
      ]
    },
    {
      "cell_type": "markdown",
      "metadata": {
        "id": "xUZYnHc5ONq7"
      },
      "source": [
        "Em termos de números absolutos, a proporção é a mesma, com o sudeste sendo a região mais afetada em números de casos e de mortes, o nordeste vindo em seguida, e as outras regiões estando praticamente em um mesmo patamar. Vamos agora fazer a mesma análise para casos a cada 100k de habitantes por região."
      ]
    },
    {
      "cell_type": "code",
      "metadata": {
        "id": "LDdUFIjSPBwX"
      },
      "source": [
        "# Vamos refazer a métrica de casos por 100k de habitantes\n",
        "confirmed_100k = grupo_regiao['confirmed'].sum() / (grupo_regiao['estimated_population'].sum() / 100000)\n",
        "deaths_100k = grupo_regiao['deaths'].sum() / (grupo_regiao['estimated_population'].sum() / 100000)"
      ],
      "execution_count": 28,
      "outputs": []
    },
    {
      "cell_type": "code",
      "metadata": {
        "colab": {
          "base_uri": "https://localhost:8080/",
          "height": 468
        },
        "id": "iCR4D-_YOHpV",
        "outputId": "6ef7d031-a326-4edd-f33f-ef590317d9f3"
      },
      "source": [
        "ax = confirmed_100k.plot(kind='bar', figsize=(10,6))\n",
        "\n",
        "plt.title('Total de casos a cada 100 mil habitantes por cada região até 30/10', fontsize = 16, fontweight = 'bold', y = 1.02)\n",
        "plt.ylabel('casos')\n",
        "\n",
        "plt.show()"
      ],
      "execution_count": 29,
      "outputs": [
        {
          "output_type": "display_data",
          "data": {
            "image/png": "[encoded data removed]",
            "text/plain": [
              "<Figure size 720x432 with 1 Axes>"
            ]
          },
          "metadata": {
            "tags": [],
            "needs_background": "light"
          }
        }
      ]
    },
    {
      "cell_type": "code",
      "metadata": {
        "colab": {
          "base_uri": "https://localhost:8080/",
          "height": 468
        },
        "id": "w8AGsyb7zEL0",
        "outputId": "b875b8e1-0812-408d-be6b-f3d0bd575f1c"
      },
      "source": [
        "ax = deaths_100k.plot(kind='bar', figsize=(10,6), color ='red')\n",
        "\n",
        "plt.title('Total de óbitos a cada 100 mil habitantes por cada região até 30/10', fontsize = 16, fontweight = 'bold', y = 1.02)\n",
        "plt.ylabel('casos')\n",
        "\n",
        "plt.show()"
      ],
      "execution_count": 30,
      "outputs": [
        {
          "output_type": "display_data",
          "data": {
            "image/png": "[encoded data removed]",
            "text/plain": [
              "<Figure size 720x432 with 1 Axes>"
            ]
          },
          "metadata": {
            "tags": [],
            "needs_background": "light"
          }
        }
      ]
    },
    {
      "cell_type": "markdown",
      "metadata": {
        "id": "oC-4WKmxtrUJ"
      },
      "source": [
        "Por este gráfico podemos ver que o centro-oeste teve mais casos e mortes a cada 100 mil habitantes, então como essa análise é um indicativo de como os números absolutos impactam com relação à população em geral, podemos dizer que foi a região mais afetada, embora o norte tenha núúmeros próximos e também foi bem afetada. E a região Sul realmente foi a menos afetada.\n",
        "\n",
        "Outro ponto interessante, o Sudeste teve um número menor de casos em comparação a outras regiões, mas teve um número alto de óbitos."
      ]
    },
    {
      "cell_type": "markdown",
      "metadata": {
        "id": "NraGweuXdV9Y"
      },
      "source": [
        "#Evolução dos números da pandemia"
      ]
    },
    {
      "cell_type": "markdown",
      "metadata": {
        "id": "2-rF914hDL5_"
      },
      "source": [
        "Verificando a evolução dos casos e óbitos confirmados ao longo do tempo (até outubro)"
      ]
    },
    {
      "cell_type": "code",
      "metadata": {
        "id": "TRwDO85mBvWC",
        "colab": {
          "base_uri": "https://localhost:8080/",
          "height": 198
        },
        "outputId": "fd63f961-995a-462e-bd66-01653714d661"
      },
      "source": [
        "# Como os casos vão sendo acumulados diariamente, para medir a quantidade de casos em um mês só vai me importar o total de casos no último dia. \n",
        "# Se eu somar os casos de um mês portanto ele vai me retornar um valor fora da realidade, portanto opta-se por criar um dataframe somente com dados do último dia de cada mês.\n",
        "datas = ['2020-03-31', '2020-04-30', '2020-05-31', '2020-06-30', '2020-07-31', '2020-08-31', '2020-09-30', '2020-10-30']\n",
        "selecao = df_main['date'].isin(datas)\n",
        "last_day_mes = df_main[selecao]\n",
        "last_day_mes.head()"
      ],
      "execution_count": 31,
      "outputs": [
        {
          "output_type": "execute_result",
          "data": {
            "text/html": [
              "<div>\n",
              "<style scoped>\n",
              "    .dataframe tbody tr th:only-of-type {\n",
              "        vertical-align: middle;\n",
              "    }\n",
              "\n",
              "    .dataframe tbody tr th {\n",
              "        vertical-align: top;\n",
              "    }\n",
              "\n",
              "    .dataframe thead th {\n",
              "        text-align: right;\n",
              "    }\n",
              "</style>\n",
              "<table border=\"1\" class=\"dataframe\">\n",
              "  <thead>\n",
              "    <tr style=\"text-align: right;\">\n",
              "      <th></th>\n",
              "      <th>date</th>\n",
              "      <th>state</th>\n",
              "      <th>confirmed</th>\n",
              "      <th>deaths</th>\n",
              "      <th>is_last</th>\n",
              "      <th>estimated_population</th>\n",
              "      <th>city_ibge_code</th>\n",
              "      <th>confirmed_per_100k_inhabitants</th>\n",
              "      <th>death_rate</th>\n",
              "      <th>região</th>\n",
              "    </tr>\n",
              "  </thead>\n",
              "  <tbody>\n",
              "    <tr>\n",
              "      <th>25</th>\n",
              "      <td>2020-10-30</td>\n",
              "      <td>AC</td>\n",
              "      <td>30758</td>\n",
              "      <td>693</td>\n",
              "      <td>False</td>\n",
              "      <td>894470</td>\n",
              "      <td>12</td>\n",
              "      <td>3438.68436</td>\n",
              "      <td>0.0225</td>\n",
              "      <td>Norte</td>\n",
              "    </tr>\n",
              "    <tr>\n",
              "      <th>26</th>\n",
              "      <td>2020-10-30</td>\n",
              "      <td>AL</td>\n",
              "      <td>90671</td>\n",
              "      <td>2234</td>\n",
              "      <td>False</td>\n",
              "      <td>3351543</td>\n",
              "      <td>27</td>\n",
              "      <td>2705.35094</td>\n",
              "      <td>0.0246</td>\n",
              "      <td>Nordeste</td>\n",
              "    </tr>\n",
              "    <tr>\n",
              "      <th>27</th>\n",
              "      <td>2020-10-30</td>\n",
              "      <td>AM</td>\n",
              "      <td>161434</td>\n",
              "      <td>4528</td>\n",
              "      <td>False</td>\n",
              "      <td>4207714</td>\n",
              "      <td>13</td>\n",
              "      <td>3836.62007</td>\n",
              "      <td>0.0280</td>\n",
              "      <td>Norte</td>\n",
              "    </tr>\n",
              "    <tr>\n",
              "      <th>28</th>\n",
              "      <td>2020-10-30</td>\n",
              "      <td>AP</td>\n",
              "      <td>52030</td>\n",
              "      <td>747</td>\n",
              "      <td>False</td>\n",
              "      <td>861773</td>\n",
              "      <td>16</td>\n",
              "      <td>6037.55281</td>\n",
              "      <td>0.0144</td>\n",
              "      <td>Norte</td>\n",
              "    </tr>\n",
              "    <tr>\n",
              "      <th>29</th>\n",
              "      <td>2020-10-30</td>\n",
              "      <td>BA</td>\n",
              "      <td>352700</td>\n",
              "      <td>7600</td>\n",
              "      <td>False</td>\n",
              "      <td>14930634</td>\n",
              "      <td>29</td>\n",
              "      <td>2362.25736</td>\n",
              "      <td>0.0215</td>\n",
              "      <td>Nordeste</td>\n",
              "    </tr>\n",
              "  </tbody>\n",
              "</table>\n",
              "</div>"
            ],
            "text/plain": [
              "         date state  ...  death_rate    região\n",
              "25 2020-10-30    AC  ...      0.0225     Norte\n",
              "26 2020-10-30    AL  ...      0.0246  Nordeste\n",
              "27 2020-10-30    AM  ...      0.0280     Norte\n",
              "28 2020-10-30    AP  ...      0.0144     Norte\n",
              "29 2020-10-30    BA  ...      0.0215  Nordeste\n",
              "\n",
              "[5 rows x 10 columns]"
            ]
          },
          "metadata": {
            "tags": []
          },
          "execution_count": 31
        }
      ]
    },
    {
      "cell_type": "code",
      "metadata": {
        "id": "ClVC__GvFd07",
        "colab": {
          "base_uri": "https://localhost:8080/",
          "height": 198
        },
        "outputId": "1f1d19aa-5e41-43f3-ca36-8c86839809dc"
      },
      "source": [
        "last_day_mes.tail()"
      ],
      "execution_count": 32,
      "outputs": [
        {
          "output_type": "execute_result",
          "data": {
            "text/html": [
              "<div>\n",
              "<style scoped>\n",
              "    .dataframe tbody tr th:only-of-type {\n",
              "        vertical-align: middle;\n",
              "    }\n",
              "\n",
              "    .dataframe tbody tr th {\n",
              "        vertical-align: top;\n",
              "    }\n",
              "\n",
              "    .dataframe thead th {\n",
              "        text-align: right;\n",
              "    }\n",
              "</style>\n",
              "<table border=\"1\" class=\"dataframe\">\n",
              "  <thead>\n",
              "    <tr style=\"text-align: right;\">\n",
              "      <th></th>\n",
              "      <th>date</th>\n",
              "      <th>state</th>\n",
              "      <th>confirmed</th>\n",
              "      <th>deaths</th>\n",
              "      <th>is_last</th>\n",
              "      <th>estimated_population</th>\n",
              "      <th>city_ibge_code</th>\n",
              "      <th>confirmed_per_100k_inhabitants</th>\n",
              "      <th>death_rate</th>\n",
              "      <th>região</th>\n",
              "    </tr>\n",
              "  </thead>\n",
              "  <tbody>\n",
              "    <tr>\n",
              "      <th>5756</th>\n",
              "      <td>2020-03-31</td>\n",
              "      <td>RS</td>\n",
              "      <td>305</td>\n",
              "      <td>4</td>\n",
              "      <td>False</td>\n",
              "      <td>11422973</td>\n",
              "      <td>43</td>\n",
              "      <td>2.67006</td>\n",
              "      <td>0.0131</td>\n",
              "      <td>Sul</td>\n",
              "    </tr>\n",
              "    <tr>\n",
              "      <th>5757</th>\n",
              "      <td>2020-03-31</td>\n",
              "      <td>SC</td>\n",
              "      <td>235</td>\n",
              "      <td>2</td>\n",
              "      <td>False</td>\n",
              "      <td>7252502</td>\n",
              "      <td>42</td>\n",
              "      <td>3.24026</td>\n",
              "      <td>0.0085</td>\n",
              "      <td>Sul</td>\n",
              "    </tr>\n",
              "    <tr>\n",
              "      <th>5758</th>\n",
              "      <td>2020-03-31</td>\n",
              "      <td>SE</td>\n",
              "      <td>19</td>\n",
              "      <td>0</td>\n",
              "      <td>False</td>\n",
              "      <td>2318822</td>\n",
              "      <td>28</td>\n",
              "      <td>0.81938</td>\n",
              "      <td>0.0000</td>\n",
              "      <td>Nordeste</td>\n",
              "    </tr>\n",
              "    <tr>\n",
              "      <th>5759</th>\n",
              "      <td>2020-03-31</td>\n",
              "      <td>SP</td>\n",
              "      <td>2339</td>\n",
              "      <td>136</td>\n",
              "      <td>False</td>\n",
              "      <td>46289333</td>\n",
              "      <td>35</td>\n",
              "      <td>5.05300</td>\n",
              "      <td>0.0581</td>\n",
              "      <td>Sudeste</td>\n",
              "    </tr>\n",
              "    <tr>\n",
              "      <th>5760</th>\n",
              "      <td>2020-03-31</td>\n",
              "      <td>TO</td>\n",
              "      <td>12</td>\n",
              "      <td>0</td>\n",
              "      <td>False</td>\n",
              "      <td>1590248</td>\n",
              "      <td>17</td>\n",
              "      <td>0.75460</td>\n",
              "      <td>0.0000</td>\n",
              "      <td>Norte</td>\n",
              "    </tr>\n",
              "  </tbody>\n",
              "</table>\n",
              "</div>"
            ],
            "text/plain": [
              "           date state  ...  death_rate    região\n",
              "5756 2020-03-31    RS  ...      0.0131       Sul\n",
              "5757 2020-03-31    SC  ...      0.0085       Sul\n",
              "5758 2020-03-31    SE  ...      0.0000  Nordeste\n",
              "5759 2020-03-31    SP  ...      0.0581   Sudeste\n",
              "5760 2020-03-31    TO  ...      0.0000     Norte\n",
              "\n",
              "[5 rows x 10 columns]"
            ]
          },
          "metadata": {
            "tags": []
          },
          "execution_count": 32
        }
      ]
    },
    {
      "cell_type": "code",
      "metadata": {
        "id": "vLNF9XgQDYTD"
      },
      "source": [
        "# Criando novo DataFrame com os meses e a quantidade total de casos e mortes em cada um\n",
        "meses = ['Março', 'Abril', 'Maio', 'Junho', 'Julho', 'Agosto', 'Setembro', 'Outubro']\n",
        "evolutivo_mes = pd.DataFrame(index = meses, columns = ['Casos', 'Mortes'])"
      ],
      "execution_count": 33,
      "outputs": []
    },
    {
      "cell_type": "code",
      "metadata": {
        "id": "GPTuntmsEF6M"
      },
      "source": [
        "# Somando o número de casos para cada mês\n",
        "casos_mar = last_day_mes[last_day_mes['date'] == '2020-03-31']['confirmed'].sum()\n",
        "casos_abr = last_day_mes[last_day_mes['date'] == '2020-04-30']['confirmed'].sum() - last_day_mes[last_day_mes['date'] == '2020-03-31']['confirmed'].sum() \n",
        "casos_mai = last_day_mes[last_day_mes['date'] == '2020-05-31']['confirmed'].sum() - last_day_mes[last_day_mes['date'] == '2020-04-30']['confirmed'].sum()\n",
        "casos_jun = last_day_mes[last_day_mes['date'] == '2020-06-30']['confirmed'].sum() - last_day_mes[last_day_mes['date'] == '2020-05-31']['confirmed'].sum()\n",
        "casos_jul = last_day_mes[last_day_mes['date'] == '2020-07-31']['confirmed'].sum() - last_day_mes[last_day_mes['date'] == '2020-06-30']['confirmed'].sum()\n",
        "casos_ago = last_day_mes[last_day_mes['date'] == '2020-08-31']['confirmed'].sum() - last_day_mes[last_day_mes['date'] == '2020-07-31']['confirmed'].sum()\n",
        "casos_set = last_day_mes[last_day_mes['date'] == '2020-09-30']['confirmed'].sum() - last_day_mes[last_day_mes['date'] == '2020-08-31']['confirmed'].sum()\n",
        "casos_out = last_day_mes[last_day_mes['date'] == '2020-10-30']['confirmed'].sum() - last_day_mes[last_day_mes['date'] == '2020-09-30']['confirmed'].sum()\n",
        "\n",
        "# Somando o número de mortes para cada mês\n",
        "\n",
        "mortes_mar = last_day_mes[last_day_mes['date'] == '2020-03-31']['deaths'].sum() \n",
        "mortes_abr = last_day_mes[last_day_mes['date'] == '2020-04-30']['deaths'].sum() - last_day_mes[last_day_mes['date'] == '2020-03-31']['deaths'].sum() \n",
        "mortes_mai = last_day_mes[last_day_mes['date'] == '2020-05-31']['deaths'].sum() - last_day_mes[last_day_mes['date'] == '2020-04-30']['deaths'].sum()\n",
        "mortes_jun = last_day_mes[last_day_mes['date'] == '2020-06-30']['deaths'].sum() - last_day_mes[last_day_mes['date'] == '2020-05-31']['deaths'].sum()\n",
        "mortes_jul = last_day_mes[last_day_mes['date'] == '2020-07-31']['deaths'].sum() - last_day_mes[last_day_mes['date'] == '2020-06-30']['deaths'].sum()\n",
        "mortes_ago = last_day_mes[last_day_mes['date'] == '2020-08-31']['deaths'].sum() - last_day_mes[last_day_mes['date'] == '2020-07-31']['deaths'].sum()\n",
        "mortes_set = last_day_mes[last_day_mes['date'] == '2020-09-30']['deaths'].sum() - last_day_mes[last_day_mes['date'] == '2020-08-31']['deaths'].sum()\n",
        "mortes_out = last_day_mes[last_day_mes['date'] == '2020-10-30']['deaths'].sum() - last_day_mes[last_day_mes['date'] == '2020-09-30']['deaths'].sum()"
      ],
      "execution_count": 34,
      "outputs": []
    },
    {
      "cell_type": "code",
      "metadata": {
        "id": "S7MR3zQBFLCx"
      },
      "source": [
        "# Criando listas para adicionar os valores calculados ao novo DataFrame\n",
        "casos_mes = [casos_mar, casos_abr, casos_mai, casos_jun, casos_jul, casos_ago, casos_set, casos_out]\n",
        "mortes_mes = [mortes_mar, mortes_abr, mortes_mai, mortes_jun, mortes_jul, mortes_ago, mortes_set, mortes_out]"
      ],
      "execution_count": 35,
      "outputs": []
    },
    {
      "cell_type": "code",
      "metadata": {
        "id": "Lghlf3ShL0rr"
      },
      "source": [
        "# Criando as colunas de evolução de casos e mortes\n",
        "evolutivo_mes['Casos'] = casos_mes\n",
        "evolutivo_mes['Mortes'] = mortes_mes"
      ],
      "execution_count": 36,
      "outputs": []
    },
    {
      "cell_type": "code",
      "metadata": {
        "id": "pgb84HsUN4ZT",
        "colab": {
          "base_uri": "https://localhost:8080/",
          "height": 288
        },
        "outputId": "601b937a-a6ed-42de-cd0e-3c94395831ff"
      },
      "source": [
        "evolutivo_mes"
      ],
      "execution_count": 37,
      "outputs": [
        {
          "output_type": "execute_result",
          "data": {
            "text/html": [
              "<div>\n",
              "<style scoped>\n",
              "    .dataframe tbody tr th:only-of-type {\n",
              "        vertical-align: middle;\n",
              "    }\n",
              "\n",
              "    .dataframe tbody tr th {\n",
              "        vertical-align: top;\n",
              "    }\n",
              "\n",
              "    .dataframe thead th {\n",
              "        text-align: right;\n",
              "    }\n",
              "</style>\n",
              "<table border=\"1\" class=\"dataframe\">\n",
              "  <thead>\n",
              "    <tr style=\"text-align: right;\">\n",
              "      <th></th>\n",
              "      <th>Casos</th>\n",
              "      <th>Mortes</th>\n",
              "    </tr>\n",
              "  </thead>\n",
              "  <tbody>\n",
              "    <tr>\n",
              "      <th>Março</th>\n",
              "      <td>5824</td>\n",
              "      <td>202</td>\n",
              "    </tr>\n",
              "    <tr>\n",
              "      <th>Abril</th>\n",
              "      <td>81302</td>\n",
              "      <td>5778</td>\n",
              "    </tr>\n",
              "    <tr>\n",
              "      <th>Maio</th>\n",
              "      <td>428968</td>\n",
              "      <td>23387</td>\n",
              "    </tr>\n",
              "    <tr>\n",
              "      <th>Junho</th>\n",
              "      <td>896570</td>\n",
              "      <td>30424</td>\n",
              "    </tr>\n",
              "    <tr>\n",
              "      <th>Julho</th>\n",
              "      <td>1257787</td>\n",
              "      <td>32936</td>\n",
              "    </tr>\n",
              "    <tr>\n",
              "      <th>Agosto</th>\n",
              "      <td>1244378</td>\n",
              "      <td>28891</td>\n",
              "    </tr>\n",
              "    <tr>\n",
              "      <th>Setembro</th>\n",
              "      <td>902536</td>\n",
              "      <td>22346</td>\n",
              "    </tr>\n",
              "    <tr>\n",
              "      <th>Outubro</th>\n",
              "      <td>707228</td>\n",
              "      <td>15716</td>\n",
              "    </tr>\n",
              "  </tbody>\n",
              "</table>\n",
              "</div>"
            ],
            "text/plain": [
              "            Casos  Mortes\n",
              "Março        5824     202\n",
              "Abril       81302    5778\n",
              "Maio       428968   23387\n",
              "Junho      896570   30424\n",
              "Julho     1257787   32936\n",
              "Agosto    1244378   28891\n",
              "Setembro   902536   22346\n",
              "Outubro    707228   15716"
            ]
          },
          "metadata": {
            "tags": []
          },
          "execution_count": 37
        }
      ]
    },
    {
      "cell_type": "code",
      "metadata": {
        "colab": {
          "base_uri": "https://localhost:8080/",
          "height": 390
        },
        "id": "aJCQpl6RR1Bm",
        "outputId": "8cc23c2d-0b43-4cd0-f67c-d784f00c2b93"
      },
      "source": [
        "# Plotando gráfico de evolucao dos casos ao longo dos meses\n",
        "\n",
        "ax = evolutivo_mes['Casos'].plot(figsize=(10,6), marker = '.')\n",
        "ax.yaxis.set_major_formatter(ticker.StrMethodFormatter('{x: ,.0f}'))\n",
        "\n",
        "\n",
        "ax.set_title('Quantidade de casos a cada mês')\n",
        "plt.ylabel('Casos')\n",
        "\n",
        "plt.show()"
      ],
      "execution_count": 38,
      "outputs": [
        {
          "output_type": "display_data",
          "data": {
            "image/png": "[encoded data removed]",
            "text/plain": [
              "<Figure size 720x432 with 1 Axes>"
            ]
          },
          "metadata": {
            "tags": [],
            "needs_background": "light"
          }
        }
      ]
    },
    {
      "cell_type": "code",
      "metadata": {
        "colab": {
          "base_uri": "https://localhost:8080/",
          "height": 390
        },
        "id": "feYCuLr45hfI",
        "outputId": "872cd2e3-55d5-4e0f-b1fb-fd8eab2124ff"
      },
      "source": [
        "# # Plotando gráfico de evolucao de mortes ao longo dos meses\n",
        "ax = evolutivo_mes['Mortes'].plot(figsize=(10,6), marker = '.', color = 'red')\n",
        "ax.yaxis.set_major_formatter(ticker.StrMethodFormatter('{x: ,.0f}'))\n",
        "\n",
        "\n",
        "ax.set_title('Quantidade de mortes por mes')\n",
        "plt.ylabel('Mortes')\n",
        "\n",
        "plt.show()"
      ],
      "execution_count": 39,
      "outputs": [
        {
          "output_type": "display_data",
          "data": {
            "image/png": "[encoded data removed]",
            "text/plain": [
              "<Figure size 720x432 with 1 Axes>"
            ]
          },
          "metadata": {
            "tags": [],
            "needs_background": "light"
          }
        }
      ]
    },
    {
      "cell_type": "markdown",
      "metadata": {
        "id": "Z0XBPM5wmb32"
      },
      "source": [
        "No primeiro mês, a evolução de casos e óbitos foi praticamente a mesma, mas a partir de abril, houve um crescimento exponencial, que veio a diminuir apenas a partir de agosto, e desde então vem decaindo, sendo que os óbitos decaíram quase que de maneira linear.\n",
        "\n",
        "Primeiro sobre esse aumento, foi o pico da pandemia, o momento em que houve um boom de casos, eles começaram a crescer muito rápido, o que aumentou a taxa de transmissão, o que fez mais pessoas contraírem o vírus e que mais pessoas também viessem a óbito. Esse pico portanto ocorreu entre maio e agosto. Foram 3 meses inteiros praticamente de pico, o que pode ser considerado um tempo muito elevado. \n",
        "\n",
        "A partir de agosto esses números começaram a cair, e vêm diminuindo desde então, até o final de Outubro. Isso pode se dever ao fato das medidas de isolamento começarem a surtir efeito, ainda que as medidas aqui no Brasil tenha sido mais rígidas, e também que as pessoas começaram a usar mais máscaras. Mas isso não quer dizer que os números agora estejam bons, o ideal, para considerar que estivessemos controlando a pandemia, seria termos um número baixo de casos e óbitos, parecidos com números de março e abril, mas podemos ver que não é isso que aconteceu.\n"
      ]
    },
    {
      "cell_type": "markdown",
      "metadata": {
        "id": "l-NdrSMo65E3"
      },
      "source": [
        "# Conclusão"
      ]
    },
    {
      "cell_type": "markdown",
      "metadata": {
        "id": "UccpOtgo7AcG"
      },
      "source": [
        "Os numeros aqui analisados serviram como base para entender como cada estado e região foram impactados pela pandemia, em termos de números absolutos. Podemos constatar que:\n",
        "\n",
        "- As regiões Centro-Oeste e Norte foram as mais afetadas, em termos de população em geral, embora essas tenham menor densidade demografica, e correspondam a apenas 16% da população total do país.\n",
        "\n",
        "- A região sul foi a região menos afetada, segundo os números do estudo.\n",
        "\n",
        "- Rio de Janeiro e Pernembuco são estados que tiveram maior taxa de óbitos.\n",
        "\n",
        "- O pico da Pandemia foi entre os meses de maio e de agosto, mas embora os números tenham diminuído, nem de perto alcançamos o mesmo patamar de março e abril.\n",
        "\n",
        "E com base nessas observações, foram levantadas algumas hipóteses que serão exploradas no decorrer do curso, de acordo com a realização dos novos módulos e de novos conhecimentos adquiridos.\n",
        "\n",
        "- A pandemia teve mais impacto no interior que nas capitais.\n",
        "\n",
        "- A questão de clima, gera impacto na evolução da pandemia?\n",
        "\n",
        "- Houve subnotificação de casos no estado do Rio de Janeiro e Pernambuco.\n",
        "\n",
        "- A região sul, por ter um clima mais frio e ter uma tendência maior para desenvolver doenças respiratórias, têm uma maior facilidade no tratamento dos casos, na prevenção e também uma propensão maior de resistência ao vírus.\n",
        "\n",
        "- A campanha de vacinação de gripe trouxe alguma amenização dos casos?\n"
      ]
    },
    {
      "cell_type": "code",
      "metadata": {
        "id": "sHBWKnFX2jeB"
      },
      "source": [
        ""
      ],
      "execution_count": 39,
      "outputs": []
    }
  ]
}